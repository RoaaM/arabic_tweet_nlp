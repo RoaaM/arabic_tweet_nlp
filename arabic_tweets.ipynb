{
  "nbformat": 4,
  "nbformat_minor": 0,
  "metadata": {
    "colab": {
      "provenance": [],
      "collapsed_sections": [
        "MAR9KuYXBug9",
        "aBZzeSY1BZhi",
        "0fq7l6-NGVJm",
        "Z8L77zcnmvX4",
        "X6f3A0b6n61t",
        "wVGL_vtp3laI",
        "_iUvTBjuwyUD",
        "MMUuqQrkfVs9",
        "Da9aP-IsjqPC",
        "ac6GnqYLEEun"
      ],
      "include_colab_link": true
    },
    "kernelspec": {
      "name": "python3",
      "display_name": "Python 3"
    },
    "language_info": {
      "name": "python"
    },
    "accelerator": "GPU",
    "gpuClass": "standard"
  },
  "cells": [
    {
      "cell_type": "markdown",
      "metadata": {
        "id": "view-in-github",
        "colab_type": "text"
      },
      "source": [
        "<a href=\"https://colab.research.google.com/github/RoaaM/arabic_tweet_nlp/blob/main/arabic_tweets.ipynb\" target=\"_parent\"><img src=\"https://colab.research.google.com/assets/colab-badge.svg\" alt=\"Open In Colab\"/></a>"
      ]
    },
    {
      "cell_type": "markdown",
      "source": [
        "#import and install the requierment"
      ],
      "metadata": {
        "id": "R622_814Vcq9"
      }
    },
    {
      "cell_type": "code",
      "execution_count": null,
      "metadata": {
        "id": "xvi9lgjh8hBL"
      },
      "outputs": [],
      "source": [
        "import pandas as pd\n",
        "import matplotlib.pyplot as plt\n",
        "import seaborn as sns\n",
        "import re\n",
        "import nltk\n",
        "from nltk.corpus import stopwords\n",
        "from sklearn.model_selection import train_test_split\n",
        "import numpy as np\n",
        "import keras\n",
        "import tensorflow as tf\n",
        "from nltk.stem.isri import ISRIStemmer\n",
        "from tensorflow.keras.preprocessing.sequence import pad_sequences\n",
        "from keras.models import Sequential\n",
        "from tensorflow.keras.layers import Dense, Embedding, GlobalMaxPool1D, GlobalAveragePooling1D, SimpleRNN, Dropout,SpatialDropout1D, Bidirectional, LSTM, TimeDistributed, Flatten, Activation, Input\n",
        "from sklearn.metrics import classification_report\n",
        "import tensorflow as tf\n",
        "from keras.layers.convolutional import MaxPooling1D\n",
        "from keras.preprocessing import sequence\n",
        "from sklearn import preprocessing\n",
        "from sklearn.feature_extraction.text import TfidfVectorizer\n",
        "from sklearn.model_selection import RandomizedSearchCV, KFold\n",
        "from sklearn.metrics import f1_score\n",
        "from sklearn.svm import SVC\n",
        "from keras.preprocessing.text import Tokenizer\n",
        "from keras.layers.convolutional import Conv1D\n",
        "from keras.utils import np_utils\n",
        "from keras.models import Model\n",
        "from gensim.models import KeyedVectors"
      ]
    },
    {
      "cell_type": "code",
      "execution_count": null,
      "metadata": {
        "colab": {
          "base_uri": "https://localhost:8080/"
        },
        "id": "j7KZ0N4SDGvR",
        "outputId": "50403a4b-ebc1-4c1f-c43f-38edc0a35585"
      },
      "outputs": [
        {
          "output_type": "stream",
          "name": "stderr",
          "text": [
            "[nltk_data] Downloading collection 'popular'\n",
            "[nltk_data]    | \n",
            "[nltk_data]    | Downloading package cmudict to /root/nltk_data...\n",
            "[nltk_data]    |   Unzipping corpora/cmudict.zip.\n",
            "[nltk_data]    | Downloading package gazetteers to /root/nltk_data...\n",
            "[nltk_data]    |   Unzipping corpora/gazetteers.zip.\n",
            "[nltk_data]    | Downloading package genesis to /root/nltk_data...\n",
            "[nltk_data]    |   Unzipping corpora/genesis.zip.\n",
            "[nltk_data]    | Downloading package gutenberg to /root/nltk_data...\n",
            "[nltk_data]    |   Unzipping corpora/gutenberg.zip.\n",
            "[nltk_data]    | Downloading package inaugural to /root/nltk_data...\n",
            "[nltk_data]    |   Unzipping corpora/inaugural.zip.\n",
            "[nltk_data]    | Downloading package movie_reviews to\n",
            "[nltk_data]    |     /root/nltk_data...\n",
            "[nltk_data]    |   Unzipping corpora/movie_reviews.zip.\n",
            "[nltk_data]    | Downloading package names to /root/nltk_data...\n",
            "[nltk_data]    |   Unzipping corpora/names.zip.\n",
            "[nltk_data]    | Downloading package shakespeare to /root/nltk_data...\n",
            "[nltk_data]    |   Unzipping corpora/shakespeare.zip.\n",
            "[nltk_data]    | Downloading package stopwords to /root/nltk_data...\n",
            "[nltk_data]    |   Unzipping corpora/stopwords.zip.\n",
            "[nltk_data]    | Downloading package treebank to /root/nltk_data...\n",
            "[nltk_data]    |   Unzipping corpora/treebank.zip.\n",
            "[nltk_data]    | Downloading package twitter_samples to\n",
            "[nltk_data]    |     /root/nltk_data...\n",
            "[nltk_data]    |   Unzipping corpora/twitter_samples.zip.\n",
            "[nltk_data]    | Downloading package omw to /root/nltk_data...\n",
            "[nltk_data]    | Downloading package omw-1.4 to /root/nltk_data...\n",
            "[nltk_data]    | Downloading package wordnet to /root/nltk_data...\n",
            "[nltk_data]    | Downloading package wordnet2021 to /root/nltk_data...\n",
            "[nltk_data]    | Downloading package wordnet31 to /root/nltk_data...\n",
            "[nltk_data]    | Downloading package wordnet_ic to /root/nltk_data...\n",
            "[nltk_data]    |   Unzipping corpora/wordnet_ic.zip.\n",
            "[nltk_data]    | Downloading package words to /root/nltk_data...\n",
            "[nltk_data]    |   Unzipping corpora/words.zip.\n",
            "[nltk_data]    | Downloading package maxent_ne_chunker to\n",
            "[nltk_data]    |     /root/nltk_data...\n",
            "[nltk_data]    |   Unzipping chunkers/maxent_ne_chunker.zip.\n",
            "[nltk_data]    | Downloading package punkt to /root/nltk_data...\n",
            "[nltk_data]    |   Unzipping tokenizers/punkt.zip.\n",
            "[nltk_data]    | Downloading package snowball_data to\n",
            "[nltk_data]    |     /root/nltk_data...\n",
            "[nltk_data]    | Downloading package averaged_perceptron_tagger to\n",
            "[nltk_data]    |     /root/nltk_data...\n",
            "[nltk_data]    |   Unzipping taggers/averaged_perceptron_tagger.zip.\n",
            "[nltk_data]    | \n",
            "[nltk_data]  Done downloading collection popular\n"
          ]
        },
        {
          "output_type": "execute_result",
          "data": {
            "text/plain": [
              "True"
            ]
          },
          "metadata": {},
          "execution_count": 2
        }
      ],
      "source": [
        "nltk.download('popular')"
      ]
    },
    {
      "cell_type": "code",
      "source": [
        "!pip install demoji"
      ],
      "metadata": {
        "colab": {
          "base_uri": "https://localhost:8080/"
        },
        "id": "thXyghXnp3b5",
        "outputId": "a5c6ec4c-b105-44ce-f4e9-8a5965a8e23e"
      },
      "execution_count": null,
      "outputs": [
        {
          "output_type": "stream",
          "name": "stdout",
          "text": [
            "Looking in indexes: https://pypi.org/simple, https://us-python.pkg.dev/colab-wheels/public/simple/\n",
            "Collecting demoji\n",
            "  Downloading demoji-1.1.0-py3-none-any.whl (42 kB)\n",
            "\u001b[2K     \u001b[90m━━━━━━━━━━━━━━━━━━━━━━━━━━━━━━━━━━━━━━━━\u001b[0m \u001b[32m42.9/42.9 KB\u001b[0m \u001b[31m5.6 MB/s\u001b[0m eta \u001b[36m0:00:00\u001b[0m\n",
            "\u001b[?25hInstalling collected packages: demoji\n",
            "Successfully installed demoji-1.1.0\n"
          ]
        }
      ]
    },
    {
      "cell_type": "code",
      "source": [
        "import demoji\n",
        "demoji.download_codes()"
      ],
      "metadata": {
        "colab": {
          "base_uri": "https://localhost:8080/"
        },
        "id": "PXTBzg1Vp0XS",
        "outputId": "3de1b85c-5e60-431d-b516-b454df32d902"
      },
      "execution_count": null,
      "outputs": [
        {
          "output_type": "stream",
          "name": "stderr",
          "text": [
            "<ipython-input-4-eb011a9810ad>:2: FutureWarning: The demoji.download_codes attribute is deprecated and will be removed from demoji in a future version. It is an unused attribute as emoji codes are now distributed directly with the demoji package.\n",
            "  demoji.download_codes()\n"
          ]
        }
      ]
    },
    {
      "cell_type": "code",
      "source": [
        "!pip install -q ktrain"
      ],
      "metadata": {
        "id": "-PrAOJtB3PUB",
        "colab": {
          "base_uri": "https://localhost:8080/"
        },
        "outputId": "8969cdb5-f92a-4134-af81-c1054afdfe45"
      },
      "execution_count": null,
      "outputs": [
        {
          "output_type": "stream",
          "name": "stdout",
          "text": [
            "\u001b[2K     \u001b[90m━━━━━━━━━━━━━━━━━━━━━━━━━━━━━━━━━━━━━━━━\u001b[0m \u001b[32m25.3/25.3 MB\u001b[0m \u001b[31m55.6 MB/s\u001b[0m eta \u001b[36m0:00:00\u001b[0m\n",
            "\u001b[?25h  Preparing metadata (setup.py) ... \u001b[?25l\u001b[?25hdone\n",
            "\u001b[2K     \u001b[90m━━━━━━━━━━━━━━━━━━━━━━━━━━━━━━━━━━━━━━\u001b[0m \u001b[32m981.5/981.5 KB\u001b[0m \u001b[31m53.5 MB/s\u001b[0m eta \u001b[36m0:00:00\u001b[0m\n",
            "\u001b[?25h  Preparing metadata (setup.py) ... \u001b[?25l\u001b[?25hdone\n",
            "\u001b[2K     \u001b[90m━━━━━━━━━━━━━━━━━━━━━━━━━━━━━━━━━━━━━━\u001b[0m \u001b[32m266.0/266.0 KB\u001b[0m \u001b[31m26.8 MB/s\u001b[0m eta \u001b[36m0:00:00\u001b[0m\n",
            "\u001b[2K     \u001b[90m━━━━━━━━━━━━━━━━━━━━━━━━━━━━━━━━━━━━━━━━\u001b[0m \u001b[32m3.8/3.8 MB\u001b[0m \u001b[31m18.6 MB/s\u001b[0m eta \u001b[36m0:00:00\u001b[0m\n",
            "\u001b[2K     \u001b[90m━━━━━━━━━━━━━━━━━━━━━━━━━━━━━━━━━━━━━━━━\u001b[0m \u001b[32m1.3/1.3 MB\u001b[0m \u001b[31m71.9 MB/s\u001b[0m eta \u001b[36m0:00:00\u001b[0m\n",
            "\u001b[?25h  Preparing metadata (setup.py) ... \u001b[?25l\u001b[?25hdone\n",
            "\u001b[2K     \u001b[90m━━━━━━━━━━━━━━━━━━━━━━━━━━━━━━━━━━━━━━\u001b[0m \u001b[32m468.8/468.8 KB\u001b[0m \u001b[31m40.3 MB/s\u001b[0m eta \u001b[36m0:00:00\u001b[0m\n",
            "\u001b[2K     \u001b[90m━━━━━━━━━━━━━━━━━━━━━━━━━━━━━━━━━━━━━━\u001b[0m \u001b[32m182.4/182.4 KB\u001b[0m \u001b[31m15.1 MB/s\u001b[0m eta \u001b[36m0:00:00\u001b[0m\n",
            "\u001b[2K     \u001b[90m━━━━━━━━━━━━━━━━━━━━━━━━━━━━━━━━━━━━━━━━\u001b[0m \u001b[32m7.6/7.6 MB\u001b[0m \u001b[31m61.7 MB/s\u001b[0m eta \u001b[36m0:00:00\u001b[0m\n",
            "\u001b[2K     \u001b[90m━━━━━━━━━━━━━━━━━━━━━━━━━━━━━━━━━━━━━━\u001b[0m \u001b[32m880.6/880.6 KB\u001b[0m \u001b[31m46.8 MB/s\u001b[0m eta \u001b[36m0:00:00\u001b[0m\n",
            "\u001b[?25h  Preparing metadata (setup.py) ... \u001b[?25l\u001b[?25hdone\n",
            "  Preparing metadata (setup.py) ... \u001b[?25l\u001b[?25hdone\n",
            "  Preparing metadata (setup.py) ... \u001b[?25l\u001b[?25hdone\n",
            "  Preparing metadata (setup.py) ... \u001b[?25l\u001b[?25hdone\n",
            "  Preparing metadata (setup.py) ... \u001b[?25l\u001b[?25hdone\n",
            "  Preparing metadata (setup.py) ... \u001b[?25l\u001b[?25hdone\n",
            "  Preparing metadata (setup.py) ... \u001b[?25l\u001b[?25hdone\n",
            "  Preparing metadata (setup.py) ... \u001b[?25l\u001b[?25hdone\n",
            "  Building wheel for ktrain (setup.py) ... \u001b[?25l\u001b[?25hdone\n",
            "  Building wheel for keras_bert (setup.py) ... \u001b[?25l\u001b[?25hdone\n",
            "  Building wheel for keras-transformer (setup.py) ... \u001b[?25l\u001b[?25hdone\n",
            "  Building wheel for keras-embed-sim (setup.py) ... \u001b[?25l\u001b[?25hdone\n",
            "  Building wheel for keras-layer-normalization (setup.py) ... \u001b[?25l\u001b[?25hdone\n",
            "  Building wheel for keras-multi-head (setup.py) ... \u001b[?25l\u001b[?25hdone\n",
            "  Building wheel for keras-pos-embd (setup.py) ... \u001b[?25l\u001b[?25hdone\n",
            "  Building wheel for keras-position-wise-feed-forward (setup.py) ... \u001b[?25l\u001b[?25hdone\n",
            "  Building wheel for keras-self-attention (setup.py) ... \u001b[?25l\u001b[?25hdone\n",
            "  Building wheel for langdetect (setup.py) ... \u001b[?25l\u001b[?25hdone\n",
            "  Building wheel for sacremoses (setup.py) ... \u001b[?25l\u001b[?25hdone\n"
          ]
        }
      ]
    },
    {
      "cell_type": "code",
      "source": [
        "import ktrain\n",
        "from ktrain import text"
      ],
      "metadata": {
        "id": "gkHT0CqWpkCX"
      },
      "execution_count": null,
      "outputs": []
    },
    {
      "cell_type": "markdown",
      "metadata": {
        "id": "3R2s8iG3BdJw"
      },
      "source": [
        "# Get Data\n"
      ]
    },
    {
      "cell_type": "code",
      "execution_count": null,
      "metadata": {
        "colab": {
          "base_uri": "https://localhost:8080/",
          "height": 423
        },
        "id": "sb-54RzT9q4f",
        "outputId": "2e05d142-718c-4fea-fbbf-cd7517240713"
      },
      "outputs": [
        {
          "output_type": "execute_result",
          "data": {
            "text/plain": [
              "                                                   text    label\n",
              "0     بعد استقالة رئيس #المحكمة_الدستورية ننتظر استق...      OBJ\n",
              "1     أهنئ الدكتور أحمد جمال الدين، القيادي بحزب مصر...      POS\n",
              "2     البرادعي يستقوى بامريكا مرةاخرى و يرسل عصام ال...      NEG\n",
              "3     #الحرية_والعدالة | شاهد الآن: #ليلة_الاتحادية ...      OBJ\n",
              "4     الوالدة لو اقولها بخاطري حشيشة تضحك بس من اقول...  NEUTRAL\n",
              "...                                                 ...      ...\n",
              "9689  والغاز مش مدعوم يا إنسان؟ وماذا عن الأسمنت وال...      NEG\n",
              "9690  اغلاق كل الساحات والميادين الكبرى لمنع صلاة ال...      NEG\n",
              "9691  #الشروق \"الداخلية\": 400 ألف مواطن تقدموا لأداء...      OBJ\n",
              "9692      #هتحبك_لو صحتها من النوم علشان تقولها بحبك ;)      POS\n",
              "9693     كل شى كتبته غلط كل شى حسبته غلط فى #الامتحانات      NEG\n",
              "\n",
              "[9694 rows x 2 columns]"
            ],
            "text/html": [
              "\n",
              "  <div id=\"df-eaabd00e-4e64-4ce0-8b46-bec110c4ddfe\">\n",
              "    <div class=\"colab-df-container\">\n",
              "      <div>\n",
              "<style scoped>\n",
              "    .dataframe tbody tr th:only-of-type {\n",
              "        vertical-align: middle;\n",
              "    }\n",
              "\n",
              "    .dataframe tbody tr th {\n",
              "        vertical-align: top;\n",
              "    }\n",
              "\n",
              "    .dataframe thead th {\n",
              "        text-align: right;\n",
              "    }\n",
              "</style>\n",
              "<table border=\"1\" class=\"dataframe\">\n",
              "  <thead>\n",
              "    <tr style=\"text-align: right;\">\n",
              "      <th></th>\n",
              "      <th>text</th>\n",
              "      <th>label</th>\n",
              "    </tr>\n",
              "  </thead>\n",
              "  <tbody>\n",
              "    <tr>\n",
              "      <th>0</th>\n",
              "      <td>بعد استقالة رئيس #المحكمة_الدستورية ننتظر استق...</td>\n",
              "      <td>OBJ</td>\n",
              "    </tr>\n",
              "    <tr>\n",
              "      <th>1</th>\n",
              "      <td>أهنئ الدكتور أحمد جمال الدين، القيادي بحزب مصر...</td>\n",
              "      <td>POS</td>\n",
              "    </tr>\n",
              "    <tr>\n",
              "      <th>2</th>\n",
              "      <td>البرادعي يستقوى بامريكا مرةاخرى و يرسل عصام ال...</td>\n",
              "      <td>NEG</td>\n",
              "    </tr>\n",
              "    <tr>\n",
              "      <th>3</th>\n",
              "      <td>#الحرية_والعدالة | شاهد الآن: #ليلة_الاتحادية ...</td>\n",
              "      <td>OBJ</td>\n",
              "    </tr>\n",
              "    <tr>\n",
              "      <th>4</th>\n",
              "      <td>الوالدة لو اقولها بخاطري حشيشة تضحك بس من اقول...</td>\n",
              "      <td>NEUTRAL</td>\n",
              "    </tr>\n",
              "    <tr>\n",
              "      <th>...</th>\n",
              "      <td>...</td>\n",
              "      <td>...</td>\n",
              "    </tr>\n",
              "    <tr>\n",
              "      <th>9689</th>\n",
              "      <td>والغاز مش مدعوم يا إنسان؟ وماذا عن الأسمنت وال...</td>\n",
              "      <td>NEG</td>\n",
              "    </tr>\n",
              "    <tr>\n",
              "      <th>9690</th>\n",
              "      <td>اغلاق كل الساحات والميادين الكبرى لمنع صلاة ال...</td>\n",
              "      <td>NEG</td>\n",
              "    </tr>\n",
              "    <tr>\n",
              "      <th>9691</th>\n",
              "      <td>#الشروق \"الداخلية\": 400 ألف مواطن تقدموا لأداء...</td>\n",
              "      <td>OBJ</td>\n",
              "    </tr>\n",
              "    <tr>\n",
              "      <th>9692</th>\n",
              "      <td>#هتحبك_لو صحتها من النوم علشان تقولها بحبك ;)</td>\n",
              "      <td>POS</td>\n",
              "    </tr>\n",
              "    <tr>\n",
              "      <th>9693</th>\n",
              "      <td>كل شى كتبته غلط كل شى حسبته غلط فى #الامتحانات</td>\n",
              "      <td>NEG</td>\n",
              "    </tr>\n",
              "  </tbody>\n",
              "</table>\n",
              "<p>9694 rows × 2 columns</p>\n",
              "</div>\n",
              "      <button class=\"colab-df-convert\" onclick=\"convertToInteractive('df-eaabd00e-4e64-4ce0-8b46-bec110c4ddfe')\"\n",
              "              title=\"Convert this dataframe to an interactive table.\"\n",
              "              style=\"display:none;\">\n",
              "        \n",
              "  <svg xmlns=\"http://www.w3.org/2000/svg\" height=\"24px\"viewBox=\"0 0 24 24\"\n",
              "       width=\"24px\">\n",
              "    <path d=\"M0 0h24v24H0V0z\" fill=\"none\"/>\n",
              "    <path d=\"M18.56 5.44l.94 2.06.94-2.06 2.06-.94-2.06-.94-.94-2.06-.94 2.06-2.06.94zm-11 1L8.5 8.5l.94-2.06 2.06-.94-2.06-.94L8.5 2.5l-.94 2.06-2.06.94zm10 10l.94 2.06.94-2.06 2.06-.94-2.06-.94-.94-2.06-.94 2.06-2.06.94z\"/><path d=\"M17.41 7.96l-1.37-1.37c-.4-.4-.92-.59-1.43-.59-.52 0-1.04.2-1.43.59L10.3 9.45l-7.72 7.72c-.78.78-.78 2.05 0 2.83L4 21.41c.39.39.9.59 1.41.59.51 0 1.02-.2 1.41-.59l7.78-7.78 2.81-2.81c.8-.78.8-2.07 0-2.86zM5.41 20L4 18.59l7.72-7.72 1.47 1.35L5.41 20z\"/>\n",
              "  </svg>\n",
              "      </button>\n",
              "      \n",
              "  <style>\n",
              "    .colab-df-container {\n",
              "      display:flex;\n",
              "      flex-wrap:wrap;\n",
              "      gap: 12px;\n",
              "    }\n",
              "\n",
              "    .colab-df-convert {\n",
              "      background-color: #E8F0FE;\n",
              "      border: none;\n",
              "      border-radius: 50%;\n",
              "      cursor: pointer;\n",
              "      display: none;\n",
              "      fill: #1967D2;\n",
              "      height: 32px;\n",
              "      padding: 0 0 0 0;\n",
              "      width: 32px;\n",
              "    }\n",
              "\n",
              "    .colab-df-convert:hover {\n",
              "      background-color: #E2EBFA;\n",
              "      box-shadow: 0px 1px 2px rgba(60, 64, 67, 0.3), 0px 1px 3px 1px rgba(60, 64, 67, 0.15);\n",
              "      fill: #174EA6;\n",
              "    }\n",
              "\n",
              "    [theme=dark] .colab-df-convert {\n",
              "      background-color: #3B4455;\n",
              "      fill: #D2E3FC;\n",
              "    }\n",
              "\n",
              "    [theme=dark] .colab-df-convert:hover {\n",
              "      background-color: #434B5C;\n",
              "      box-shadow: 0px 1px 3px 1px rgba(0, 0, 0, 0.15);\n",
              "      filter: drop-shadow(0px 1px 2px rgba(0, 0, 0, 0.3));\n",
              "      fill: #FFFFFF;\n",
              "    }\n",
              "  </style>\n",
              "\n",
              "      <script>\n",
              "        const buttonEl =\n",
              "          document.querySelector('#df-eaabd00e-4e64-4ce0-8b46-bec110c4ddfe button.colab-df-convert');\n",
              "        buttonEl.style.display =\n",
              "          google.colab.kernel.accessAllowed ? 'block' : 'none';\n",
              "\n",
              "        async function convertToInteractive(key) {\n",
              "          const element = document.querySelector('#df-eaabd00e-4e64-4ce0-8b46-bec110c4ddfe');\n",
              "          const dataTable =\n",
              "            await google.colab.kernel.invokeFunction('convertToInteractive',\n",
              "                                                     [key], {});\n",
              "          if (!dataTable) return;\n",
              "\n",
              "          const docLinkHtml = 'Like what you see? Visit the ' +\n",
              "            '<a target=\"_blank\" href=https://colab.research.google.com/notebooks/data_table.ipynb>data table notebook</a>'\n",
              "            + ' to learn more about interactive tables.';\n",
              "          element.innerHTML = '';\n",
              "          dataTable['output_type'] = 'display_data';\n",
              "          await google.colab.output.renderOutput(dataTable, element);\n",
              "          const docLink = document.createElement('div');\n",
              "          docLink.innerHTML = docLinkHtml;\n",
              "          element.appendChild(docLink);\n",
              "        }\n",
              "      </script>\n",
              "    </div>\n",
              "  </div>\n",
              "  "
            ]
          },
          "metadata": {},
          "execution_count": 18
        }
      ],
      "source": [
        "df_ = pd.read_csv(\"/content/Tweets.txt\", sep=\"\t\", names=[\"text\", \"label\"])\n",
        "df_"
      ]
    },
    {
      "cell_type": "markdown",
      "metadata": {
        "id": "MAR9KuYXBug9"
      },
      "source": [
        "# 1- Discover and visualize the data"
      ]
    },
    {
      "cell_type": "code",
      "source": [
        "df = df_.copy()"
      ],
      "metadata": {
        "id": "U_K3jFnKLOvX"
      },
      "execution_count": null,
      "outputs": []
    },
    {
      "cell_type": "code",
      "execution_count": null,
      "metadata": {
        "colab": {
          "base_uri": "https://localhost:8080/"
        },
        "id": "umv7w8RhB1N5",
        "outputId": "1d472c15-7614-4d69-fe39-df7af8543831"
      },
      "outputs": [
        {
          "output_type": "stream",
          "name": "stdout",
          "text": [
            "The data shape is (9694, 2), 9694 rows and 2 columns(features).\n"
          ]
        }
      ],
      "source": [
        "print(f\"The data shape is {df.shape}, {df.shape[0]} rows and {df.shape[1]} columns(features).\")"
      ]
    },
    {
      "cell_type": "code",
      "execution_count": null,
      "metadata": {
        "colab": {
          "base_uri": "https://localhost:8080/"
        },
        "id": "fizZjrrcCDE1",
        "outputId": "1773b67f-52fe-41db-c890-6040ad4fe883"
      },
      "outputs": [
        {
          "output_type": "stream",
          "name": "stdout",
          "text": [
            "<class 'pandas.core.frame.DataFrame'>\n",
            "RangeIndex: 9694 entries, 0 to 9693\n",
            "Data columns (total 2 columns):\n",
            " #   Column  Non-Null Count  Dtype \n",
            "---  ------  --------------  ----- \n",
            " 0   text    9694 non-null   object\n",
            " 1   label   9694 non-null   object\n",
            "dtypes: object(2)\n",
            "memory usage: 151.6+ KB\n"
          ]
        }
      ],
      "source": [
        "df.info()"
      ]
    },
    {
      "cell_type": "code",
      "execution_count": null,
      "metadata": {
        "colab": {
          "base_uri": "https://localhost:8080/"
        },
        "id": "_OV0VxfhCJGI",
        "outputId": "9eb64f58-94f4-400b-82be-48f3f9dc7d12"
      },
      "outputs": [
        {
          "output_type": "execute_result",
          "data": {
            "text/plain": [
              "4"
            ]
          },
          "metadata": {},
          "execution_count": 22
        }
      ],
      "source": [
        "df.duplicated().sum()"
      ]
    },
    {
      "cell_type": "code",
      "execution_count": null,
      "metadata": {
        "colab": {
          "base_uri": "https://localhost:8080/",
          "height": 423
        },
        "id": "QVxLDb0tQLSX",
        "outputId": "6786e415-98f9-4e97-ad09-d11da6bea3f7"
      },
      "outputs": [
        {
          "output_type": "execute_result",
          "data": {
            "text/plain": [
              "                                                   text    label\n",
              "0     بعد استقالة رئيس #المحكمة_الدستورية ننتظر استق...      OBJ\n",
              "1     أهنئ الدكتور أحمد جمال الدين، القيادي بحزب مصر...      POS\n",
              "2     البرادعي يستقوى بامريكا مرةاخرى و يرسل عصام ال...      NEG\n",
              "3     #الحرية_والعدالة | شاهد الآن: #ليلة_الاتحادية ...      OBJ\n",
              "4     الوالدة لو اقولها بخاطري حشيشة تضحك بس من اقول...  NEUTRAL\n",
              "...                                                 ...      ...\n",
              "9689  والغاز مش مدعوم يا إنسان؟ وماذا عن الأسمنت وال...      NEG\n",
              "9690  اغلاق كل الساحات والميادين الكبرى لمنع صلاة ال...      NEG\n",
              "9691  #الشروق \"الداخلية\": 400 ألف مواطن تقدموا لأداء...      OBJ\n",
              "9692      #هتحبك_لو صحتها من النوم علشان تقولها بحبك ;)      POS\n",
              "9693     كل شى كتبته غلط كل شى حسبته غلط فى #الامتحانات      NEG\n",
              "\n",
              "[9690 rows x 2 columns]"
            ],
            "text/html": [
              "\n",
              "  <div id=\"df-6f2ec756-2d44-4a85-bc80-6a85a85c5869\">\n",
              "    <div class=\"colab-df-container\">\n",
              "      <div>\n",
              "<style scoped>\n",
              "    .dataframe tbody tr th:only-of-type {\n",
              "        vertical-align: middle;\n",
              "    }\n",
              "\n",
              "    .dataframe tbody tr th {\n",
              "        vertical-align: top;\n",
              "    }\n",
              "\n",
              "    .dataframe thead th {\n",
              "        text-align: right;\n",
              "    }\n",
              "</style>\n",
              "<table border=\"1\" class=\"dataframe\">\n",
              "  <thead>\n",
              "    <tr style=\"text-align: right;\">\n",
              "      <th></th>\n",
              "      <th>text</th>\n",
              "      <th>label</th>\n",
              "    </tr>\n",
              "  </thead>\n",
              "  <tbody>\n",
              "    <tr>\n",
              "      <th>0</th>\n",
              "      <td>بعد استقالة رئيس #المحكمة_الدستورية ننتظر استق...</td>\n",
              "      <td>OBJ</td>\n",
              "    </tr>\n",
              "    <tr>\n",
              "      <th>1</th>\n",
              "      <td>أهنئ الدكتور أحمد جمال الدين، القيادي بحزب مصر...</td>\n",
              "      <td>POS</td>\n",
              "    </tr>\n",
              "    <tr>\n",
              "      <th>2</th>\n",
              "      <td>البرادعي يستقوى بامريكا مرةاخرى و يرسل عصام ال...</td>\n",
              "      <td>NEG</td>\n",
              "    </tr>\n",
              "    <tr>\n",
              "      <th>3</th>\n",
              "      <td>#الحرية_والعدالة | شاهد الآن: #ليلة_الاتحادية ...</td>\n",
              "      <td>OBJ</td>\n",
              "    </tr>\n",
              "    <tr>\n",
              "      <th>4</th>\n",
              "      <td>الوالدة لو اقولها بخاطري حشيشة تضحك بس من اقول...</td>\n",
              "      <td>NEUTRAL</td>\n",
              "    </tr>\n",
              "    <tr>\n",
              "      <th>...</th>\n",
              "      <td>...</td>\n",
              "      <td>...</td>\n",
              "    </tr>\n",
              "    <tr>\n",
              "      <th>9689</th>\n",
              "      <td>والغاز مش مدعوم يا إنسان؟ وماذا عن الأسمنت وال...</td>\n",
              "      <td>NEG</td>\n",
              "    </tr>\n",
              "    <tr>\n",
              "      <th>9690</th>\n",
              "      <td>اغلاق كل الساحات والميادين الكبرى لمنع صلاة ال...</td>\n",
              "      <td>NEG</td>\n",
              "    </tr>\n",
              "    <tr>\n",
              "      <th>9691</th>\n",
              "      <td>#الشروق \"الداخلية\": 400 ألف مواطن تقدموا لأداء...</td>\n",
              "      <td>OBJ</td>\n",
              "    </tr>\n",
              "    <tr>\n",
              "      <th>9692</th>\n",
              "      <td>#هتحبك_لو صحتها من النوم علشان تقولها بحبك ;)</td>\n",
              "      <td>POS</td>\n",
              "    </tr>\n",
              "    <tr>\n",
              "      <th>9693</th>\n",
              "      <td>كل شى كتبته غلط كل شى حسبته غلط فى #الامتحانات</td>\n",
              "      <td>NEG</td>\n",
              "    </tr>\n",
              "  </tbody>\n",
              "</table>\n",
              "<p>9690 rows × 2 columns</p>\n",
              "</div>\n",
              "      <button class=\"colab-df-convert\" onclick=\"convertToInteractive('df-6f2ec756-2d44-4a85-bc80-6a85a85c5869')\"\n",
              "              title=\"Convert this dataframe to an interactive table.\"\n",
              "              style=\"display:none;\">\n",
              "        \n",
              "  <svg xmlns=\"http://www.w3.org/2000/svg\" height=\"24px\"viewBox=\"0 0 24 24\"\n",
              "       width=\"24px\">\n",
              "    <path d=\"M0 0h24v24H0V0z\" fill=\"none\"/>\n",
              "    <path d=\"M18.56 5.44l.94 2.06.94-2.06 2.06-.94-2.06-.94-.94-2.06-.94 2.06-2.06.94zm-11 1L8.5 8.5l.94-2.06 2.06-.94-2.06-.94L8.5 2.5l-.94 2.06-2.06.94zm10 10l.94 2.06.94-2.06 2.06-.94-2.06-.94-.94-2.06-.94 2.06-2.06.94z\"/><path d=\"M17.41 7.96l-1.37-1.37c-.4-.4-.92-.59-1.43-.59-.52 0-1.04.2-1.43.59L10.3 9.45l-7.72 7.72c-.78.78-.78 2.05 0 2.83L4 21.41c.39.39.9.59 1.41.59.51 0 1.02-.2 1.41-.59l7.78-7.78 2.81-2.81c.8-.78.8-2.07 0-2.86zM5.41 20L4 18.59l7.72-7.72 1.47 1.35L5.41 20z\"/>\n",
              "  </svg>\n",
              "      </button>\n",
              "      \n",
              "  <style>\n",
              "    .colab-df-container {\n",
              "      display:flex;\n",
              "      flex-wrap:wrap;\n",
              "      gap: 12px;\n",
              "    }\n",
              "\n",
              "    .colab-df-convert {\n",
              "      background-color: #E8F0FE;\n",
              "      border: none;\n",
              "      border-radius: 50%;\n",
              "      cursor: pointer;\n",
              "      display: none;\n",
              "      fill: #1967D2;\n",
              "      height: 32px;\n",
              "      padding: 0 0 0 0;\n",
              "      width: 32px;\n",
              "    }\n",
              "\n",
              "    .colab-df-convert:hover {\n",
              "      background-color: #E2EBFA;\n",
              "      box-shadow: 0px 1px 2px rgba(60, 64, 67, 0.3), 0px 1px 3px 1px rgba(60, 64, 67, 0.15);\n",
              "      fill: #174EA6;\n",
              "    }\n",
              "\n",
              "    [theme=dark] .colab-df-convert {\n",
              "      background-color: #3B4455;\n",
              "      fill: #D2E3FC;\n",
              "    }\n",
              "\n",
              "    [theme=dark] .colab-df-convert:hover {\n",
              "      background-color: #434B5C;\n",
              "      box-shadow: 0px 1px 3px 1px rgba(0, 0, 0, 0.15);\n",
              "      filter: drop-shadow(0px 1px 2px rgba(0, 0, 0, 0.3));\n",
              "      fill: #FFFFFF;\n",
              "    }\n",
              "  </style>\n",
              "\n",
              "      <script>\n",
              "        const buttonEl =\n",
              "          document.querySelector('#df-6f2ec756-2d44-4a85-bc80-6a85a85c5869 button.colab-df-convert');\n",
              "        buttonEl.style.display =\n",
              "          google.colab.kernel.accessAllowed ? 'block' : 'none';\n",
              "\n",
              "        async function convertToInteractive(key) {\n",
              "          const element = document.querySelector('#df-6f2ec756-2d44-4a85-bc80-6a85a85c5869');\n",
              "          const dataTable =\n",
              "            await google.colab.kernel.invokeFunction('convertToInteractive',\n",
              "                                                     [key], {});\n",
              "          if (!dataTable) return;\n",
              "\n",
              "          const docLinkHtml = 'Like what you see? Visit the ' +\n",
              "            '<a target=\"_blank\" href=https://colab.research.google.com/notebooks/data_table.ipynb>data table notebook</a>'\n",
              "            + ' to learn more about interactive tables.';\n",
              "          element.innerHTML = '';\n",
              "          dataTable['output_type'] = 'display_data';\n",
              "          await google.colab.output.renderOutput(dataTable, element);\n",
              "          const docLink = document.createElement('div');\n",
              "          docLink.innerHTML = docLinkHtml;\n",
              "          element.appendChild(docLink);\n",
              "        }\n",
              "      </script>\n",
              "    </div>\n",
              "  </div>\n",
              "  "
            ]
          },
          "metadata": {},
          "execution_count": 23
        }
      ],
      "source": [
        "df.drop_duplicates()"
      ]
    },
    {
      "cell_type": "code",
      "execution_count": null,
      "metadata": {
        "colab": {
          "base_uri": "https://localhost:8080/"
        },
        "id": "ytY4stdx9uif",
        "outputId": "ff3a9c58-11fd-4a95-ede2-7ceb7ff27779"
      },
      "outputs": [
        {
          "output_type": "execute_result",
          "data": {
            "text/plain": [
              "array(['OBJ', 'POS', 'NEG', 'NEUTRAL'], dtype=object)"
            ]
          },
          "metadata": {},
          "execution_count": 24
        }
      ],
      "source": [
        "df['label'].unique()"
      ]
    },
    {
      "cell_type": "code",
      "execution_count": null,
      "metadata": {
        "colab": {
          "base_uri": "https://localhost:8080/"
        },
        "id": "nwpBBu8R-U3_",
        "outputId": "3f5b6bb9-af00-4dfc-cd9d-a4c2684c473a"
      },
      "outputs": [
        {
          "output_type": "execute_result",
          "data": {
            "text/plain": [
              "OBJ        6470\n",
              "NEG        1642\n",
              "NEUTRAL     805\n",
              "POS         777\n",
              "Name: label, dtype: int64"
            ]
          },
          "metadata": {},
          "execution_count": 25
        }
      ],
      "source": [
        "df['label'].value_counts()"
      ]
    },
    {
      "cell_type": "code",
      "execution_count": null,
      "metadata": {
        "colab": {
          "base_uri": "https://localhost:8080/",
          "height": 296
        },
        "id": "xHqVl8AN_XvU",
        "outputId": "29e056f3-ee76-4b65-95d0-fa4c01a468d0"
      },
      "outputs": [
        {
          "output_type": "execute_result",
          "data": {
            "text/plain": [
              "<matplotlib.axes._subplots.AxesSubplot at 0x7fa0fd00f250>"
            ]
          },
          "metadata": {},
          "execution_count": 26
        },
        {
          "output_type": "display_data",
          "data": {
            "text/plain": [
              "<Figure size 432x288 with 1 Axes>"
            ],
            "image/png": "[encoded data removed]"
          },
          "metadata": {
            "needs_background": "light"
          }
        }
      ],
      "source": [
        "sns.countplot(x ='label', data = df)"
      ]
    },
    {
      "cell_type": "markdown",
      "metadata": {
        "id": "aBZzeSY1BZhi"
      },
      "source": [
        "#2-Text Cleaning\n"
      ]
    },
    {
      "cell_type": "code",
      "execution_count": null,
      "metadata": {
        "id": "F_9YoRUQxgFl",
        "colab": {
          "base_uri": "https://localhost:8080/"
        },
        "outputId": "0b175d46-15d0-43db-8a47-635ca8eff7a2"
      },
      "outputs": [
        {
          "output_type": "stream",
          "name": "stdout",
          "text": [
            "remove stopwords:\n",
            "حازم_عبد_العظيم وهو بيرد عليا على تويتر أيام حكم #مرسى    ويقولى \" الجيش يدخل ليحل وليس ليحكم\" وحازم دلوقتى فى\n",
            "حازم_عبد_العظيم بيرد عليا تويتر أيام حكم #مرسى    ويقولى \" الجيش يدخل ليحل وليس ليحكم\" وحازم دلوقتى فى\n",
            "\n",
            "\n",
            "remove hashtages:\n",
            "#حازم_عبد_العظيم وهو بيرد عليا على #تويتر أيام حكم #مرسى    ويقولى \" الجيش يدخل ليحل #وليس ليحكم\" وحازم #دلوقتى فى\n",
            " وهو بيرد عليا على  أيام حكم     ويقولى \" الجيش يدخل ليحل  ليحكم\" وحازم  فى\n",
            "\n",
            "\n",
            "remove punctuation marks:\n",
            "بعد استقالة رئيس #المحكمة_الدستورية ننتظر استقالة #رئيس_القضاء #السودان\n",
            "بعد استقالة رئيس المحكمة_الدستورية ننتظر استقالة رئيس_القضاء السودان\n",
            "\n",
            "\n",
            "remove numbers:\n",
            "دعمرو حمزاوي برنامج \" أخر كلام \" 11 إبريل 2012\n",
            "دعمرو حمزاوي برنامج \" أخر كلام \"  إبريل \n",
            "\n",
            "\n",
            "remove multiple white space:\n",
            "#حازم_عبد_العظيم وهو بيرد عليا على تويتر أيام حكم #مرسى    ويقولى \" الجيش يدخل ليحل وليس ليحكم\" وحازم دلوقتى فى\n",
            "#حازم_عبد_العظيم وهو بيرد عليا على تويتر أيام حكم #مرسى ويقولى \" الجيش يدخل ليحل وليس ليحكم\" وحازم دلوقتى فى\n",
            "\n",
            "\n",
            "remove emojies:\n",
            "#غرد_بصوره #تصوير #تصميمي #مطر #جونا_خقه ▼ ▼▼▼ أتمنى يعجبكم وهلون،،،😗\n",
            "#غرد_بصوره #تصوير #تصميمي #مطر #جونا_خقه ▼ ▼▼▼ أتمنى يعجبكم وهلون،،،\n",
            "\n",
            "\n",
            "remove repeating character:\n",
            " السيسي اااااااسهل جداًً# ساعدنا اننا أأنعمل@ ملييييييون شييييييييييييييييييييييييييير #سأنتخب_ا\n",
            " السيسي اسهل جداً# ساعدنا انا أنعمل@ مليون شير #سأنتخب_ا\n",
            "\n",
            "\n",
            "normalize the text:\n",
            "السيسي اااااااسهل جداًً# ساعدنا اننا أأنعمل@ ملييييييون شييييييييييييييييييييييييييير #سأنتخب_ا\n",
            "السيسي اااااااسهل جداًً# ساعدنا اننا اانعمل@ ملييييييون شييييييييييييييييييييييييييير #سانتخب_ا\n",
            "\n",
            "\n",
            "stemming:\n",
            "بعد استقالة رئيس #المحكمة_الدستورية ننتظر استقالة #رئيس_القضاء #السودان\n",
            "بعد قال رئس # محكمة_الدستورية تظر قال # رئيس_القضاء # سود\n",
            "\n",
            "\n",
            "clean all:\n",
            "عايز تكون عضويي في حمله المشير يعجبكم وهلون،،،😗   ااااالسيسي سهل جداًً# ساعدنا اننا نعملى@ مليون شييييييييييييييييييييييييييير #سأنتخب_السيسي …\n",
            "عايز تكون عضوي في حمله المشير يعجبكم وهلون😗 السيسي سهل جداً ساعدنا انا نعملي مليون شير سانتخب_السيسي \n"
          ]
        }
      ],
      "source": [
        "# to check the functions\n",
        "def test_cleaning(function, sample):\n",
        "  print(sample, function(sample), sep='\\n')\n",
        "\n",
        "\n",
        "# Remove Stopwords\n",
        "# i will keep stopwords in bert\n",
        "stop_words = stopwords.words('arabic')\n",
        "def remove_stopwords(text):\n",
        "  return \" \".join([word for word in text.split(\" \") if word not in stop_words])\n",
        "print('remove stopwords:')\n",
        "test_cleaning(remove_stopwords, 'حازم_عبد_العظيم وهو بيرد عليا على تويتر أيام حكم #مرسى    ويقولى \" الجيش يدخل ليحل وليس ليحكم\" وحازم دلوقتى فى')\n",
        "print('\\n')\n",
        "\n",
        "\n",
        "# Remove Hashtages\n",
        "hashtages = re.compile(pattern=\"#[\\w\\d]+\")\n",
        "def remove_hashtages(text):\n",
        "  return hashtages.sub(repl=\"\", string=text)\n",
        "print('remove hashtages:')\n",
        "test_cleaning(remove_hashtages, '#حازم_عبد_العظيم وهو بيرد عليا على #تويتر أيام حكم #مرسى    ويقولى \" الجيش يدخل ليحل #وليس ليحكم\" وحازم #دلوقتى فى')\n",
        "print('\\n')\n",
        "# hashtags is important in this dataset so i will not remove it i will just remove the hashtag mark with punctuation marks\n",
        "\n",
        "\n",
        "# Remove Punctuations Marks\n",
        "punctuation_marks = re.compile(r\"\"\"[!\"#$%&\\'()*+,-./:;<=>?@[\\\\\\]^`{|}~،؟…«“\\\":\\\"…”]\"\"\")\n",
        "def remove_punch_marks(text):\n",
        "  return punctuation_marks.sub(repl=\"\", string=text)\n",
        "print('remove punctuation marks:')\n",
        "test_cleaning(remove_punch_marks, df['text'][0])\n",
        "print('\\n')\n",
        "\n",
        "\n",
        "# Remove Numbers\n",
        "numbers = re.compile('\\d+')\n",
        "def remove_numbers(text):\n",
        "  return numbers.sub(repl=\"\", string=text)\n",
        "print('remove numbers:')\n",
        "test_cleaning(remove_numbers, df['text'][50])\n",
        "print('\\n')\n",
        "\n",
        "\n",
        "# Remove Multible whitespace\n",
        "multiple_whitespace = re.compile('\\s{2,}')\n",
        "def remove_whitespace(text):\n",
        "  return multiple_whitespace.sub(repl=\" \", string=text)\n",
        "print('remove multiple white space:')\n",
        "test_cleaning(remove_whitespace,'#حازم_عبد_العظيم وهو بيرد عليا على تويتر أيام حكم #مرسى    ويقولى \" الجيش يدخل ليحل وليس ليحكم\" وحازم دلوقتى فى')\n",
        "print('\\n')\n",
        "\n",
        "\n",
        "# remove emojies\n",
        "# emojies importaant in syntiment analysis i will remove it now for ml model\n",
        "def remove_emoji(text):\n",
        "  dem = demoji.findall(text)\n",
        "  for item in dem.keys():\n",
        "    text = text.replace(item, '')\n",
        "  return text\n",
        "print('remove emojies:')\n",
        "test_cleaning(remove_emoji,'#غرد_بصوره #تصوير #تصميمي #مطر #جونا_خقه ▼ ▼▼▼ أتمنى يعجبكم وهلون،،،😗')\n",
        "print('\\n')\n",
        "\n",
        "\n",
        "# remove repeating characters\n",
        "def remove_repeating_char(text):\n",
        "    return re.sub(r'(.)\\1+', r'\\1', text)\n",
        "print('remove repeating character:')\n",
        "test_cleaning(remove_repeating_char, ' السيسي اااااااسهل جداًً# ساعدنا اننا أأنعمل@ ملييييييون شييييييييييييييييييييييييييير #سأنتخب_ا')\n",
        "print('\\n')\n",
        "\n",
        "\n",
        "# Normalize\n",
        "def normalize_arabic(text):\n",
        "    text = re.sub(\"[إأآا]\", r\"ا\", text)\n",
        "    text = re.sub(\"ى\", r\"ي\", text)\n",
        "    text = re.sub(\"ة\", r\"ه\", text)\n",
        "    text = re.sub(\"گ\", r\"ك\", text)\n",
        "    return text\n",
        "print('normalize the text:')\n",
        "test_cleaning(normalize_arabic, 'السيسي اااااااسهل جداًً# ساعدنا اننا أأنعمل@ ملييييييون شييييييييييييييييييييييييييير #سأنتخب_ا')\n",
        "print('\\n')\n",
        "\n",
        "\n",
        "# Stemming\n",
        "def stemmer(text):\n",
        "    stemr = ISRIStemmer()\n",
        "    words_tokens = nltk.word_tokenize(text)\n",
        "    stemmer_string = ' '.join([stemr.stem(words) for words in words_tokens])\n",
        "    return stemmer_string\n",
        "print('stemming:')\n",
        "test_cleaning(stemmer, df['text'][0])\n",
        "print('\\n')\n",
        "\n",
        "# here i decide to not remove hashtags and the result for stemming not well so i will not use stemming\n",
        "# and emojes are good for sentiment analysis i will keep it when i use bert or neural network model but i will remove it for ml model\n",
        "def clean_all(text):\n",
        "  text = text.lower().strip()\n",
        "  text = normalize_arabic(text)\n",
        "  text = remove_whitespace(text)\n",
        "  text = remove_punch_marks(text)\n",
        "  text = remove_numbers(text)\n",
        "  # text = remove_stopwords(text)\n",
        "  # text = remove_emoji(text)\n",
        "  text = remove_repeating_char(text)\n",
        "  # text = stemmer(text)\n",
        "  return text\n",
        "\n",
        "print('clean all:')\n",
        "test_cleaning(clean_all, 'عايز تكون عضويي في حمله المشير يعجبكم وهلون،،،😗   ااااالسيسي سهل جداًً# ساعدنا اننا نعملى@ مليون شييييييييييييييييييييييييييير #سأنتخب_السيسي …')"
      ]
    },
    {
      "cell_type": "markdown",
      "metadata": {
        "id": "0fq7l6-NGVJm"
      },
      "source": [
        "#3- prepare data"
      ]
    },
    {
      "cell_type": "code",
      "execution_count": null,
      "metadata": {
        "id": "0gRjuAzZxgRH"
      },
      "outputs": [],
      "source": [
        "# Encoding the label (NEG --> 0, NEUTRAL --> 1, OBJ --> 2, POS --> 3)\n",
        "\n",
        "label_encoder = preprocessing.LabelEncoder()\n",
        "df['label'] = label_encoder.fit_transform(df['label'])"
      ]
    },
    {
      "cell_type": "code",
      "execution_count": null,
      "metadata": {
        "colab": {
          "base_uri": "https://localhost:8080/",
          "height": 206
        },
        "id": "bjaKSN_zGLxq",
        "outputId": "d2208e44-a041-4649-e18a-61bed893eec5"
      },
      "outputs": [
        {
          "output_type": "execute_result",
          "data": {
            "text/plain": [
              "                                                text  label\n",
              "0  بعد استقالة رئيس #المحكمة_الدستورية ننتظر استق...      2\n",
              "1  أهنئ الدكتور أحمد جمال الدين، القيادي بحزب مصر...      3\n",
              "2  البرادعي يستقوى بامريكا مرةاخرى و يرسل عصام ال...      0\n",
              "3  #الحرية_والعدالة | شاهد الآن: #ليلة_الاتحادية ...      2\n",
              "4  الوالدة لو اقولها بخاطري حشيشة تضحك بس من اقول...      1"
            ],
            "text/html": [
              "\n",
              "  <div id=\"df-29d90eeb-bbd0-453d-9362-d2ee792cde40\">\n",
              "    <div class=\"colab-df-container\">\n",
              "      <div>\n",
              "<style scoped>\n",
              "    .dataframe tbody tr th:only-of-type {\n",
              "        vertical-align: middle;\n",
              "    }\n",
              "\n",
              "    .dataframe tbody tr th {\n",
              "        vertical-align: top;\n",
              "    }\n",
              "\n",
              "    .dataframe thead th {\n",
              "        text-align: right;\n",
              "    }\n",
              "</style>\n",
              "<table border=\"1\" class=\"dataframe\">\n",
              "  <thead>\n",
              "    <tr style=\"text-align: right;\">\n",
              "      <th></th>\n",
              "      <th>text</th>\n",
              "      <th>label</th>\n",
              "    </tr>\n",
              "  </thead>\n",
              "  <tbody>\n",
              "    <tr>\n",
              "      <th>0</th>\n",
              "      <td>بعد استقالة رئيس #المحكمة_الدستورية ننتظر استق...</td>\n",
              "      <td>2</td>\n",
              "    </tr>\n",
              "    <tr>\n",
              "      <th>1</th>\n",
              "      <td>أهنئ الدكتور أحمد جمال الدين، القيادي بحزب مصر...</td>\n",
              "      <td>3</td>\n",
              "    </tr>\n",
              "    <tr>\n",
              "      <th>2</th>\n",
              "      <td>البرادعي يستقوى بامريكا مرةاخرى و يرسل عصام ال...</td>\n",
              "      <td>0</td>\n",
              "    </tr>\n",
              "    <tr>\n",
              "      <th>3</th>\n",
              "      <td>#الحرية_والعدالة | شاهد الآن: #ليلة_الاتحادية ...</td>\n",
              "      <td>2</td>\n",
              "    </tr>\n",
              "    <tr>\n",
              "      <th>4</th>\n",
              "      <td>الوالدة لو اقولها بخاطري حشيشة تضحك بس من اقول...</td>\n",
              "      <td>1</td>\n",
              "    </tr>\n",
              "  </tbody>\n",
              "</table>\n",
              "</div>\n",
              "      <button class=\"colab-df-convert\" onclick=\"convertToInteractive('df-29d90eeb-bbd0-453d-9362-d2ee792cde40')\"\n",
              "              title=\"Convert this dataframe to an interactive table.\"\n",
              "              style=\"display:none;\">\n",
              "        \n",
              "  <svg xmlns=\"http://www.w3.org/2000/svg\" height=\"24px\"viewBox=\"0 0 24 24\"\n",
              "       width=\"24px\">\n",
              "    <path d=\"M0 0h24v24H0V0z\" fill=\"none\"/>\n",
              "    <path d=\"M18.56 5.44l.94 2.06.94-2.06 2.06-.94-2.06-.94-.94-2.06-.94 2.06-2.06.94zm-11 1L8.5 8.5l.94-2.06 2.06-.94-2.06-.94L8.5 2.5l-.94 2.06-2.06.94zm10 10l.94 2.06.94-2.06 2.06-.94-2.06-.94-.94-2.06-.94 2.06-2.06.94z\"/><path d=\"M17.41 7.96l-1.37-1.37c-.4-.4-.92-.59-1.43-.59-.52 0-1.04.2-1.43.59L10.3 9.45l-7.72 7.72c-.78.78-.78 2.05 0 2.83L4 21.41c.39.39.9.59 1.41.59.51 0 1.02-.2 1.41-.59l7.78-7.78 2.81-2.81c.8-.78.8-2.07 0-2.86zM5.41 20L4 18.59l7.72-7.72 1.47 1.35L5.41 20z\"/>\n",
              "  </svg>\n",
              "      </button>\n",
              "      \n",
              "  <style>\n",
              "    .colab-df-container {\n",
              "      display:flex;\n",
              "      flex-wrap:wrap;\n",
              "      gap: 12px;\n",
              "    }\n",
              "\n",
              "    .colab-df-convert {\n",
              "      background-color: #E8F0FE;\n",
              "      border: none;\n",
              "      border-radius: 50%;\n",
              "      cursor: pointer;\n",
              "      display: none;\n",
              "      fill: #1967D2;\n",
              "      height: 32px;\n",
              "      padding: 0 0 0 0;\n",
              "      width: 32px;\n",
              "    }\n",
              "\n",
              "    .colab-df-convert:hover {\n",
              "      background-color: #E2EBFA;\n",
              "      box-shadow: 0px 1px 2px rgba(60, 64, 67, 0.3), 0px 1px 3px 1px rgba(60, 64, 67, 0.15);\n",
              "      fill: #174EA6;\n",
              "    }\n",
              "\n",
              "    [theme=dark] .colab-df-convert {\n",
              "      background-color: #3B4455;\n",
              "      fill: #D2E3FC;\n",
              "    }\n",
              "\n",
              "    [theme=dark] .colab-df-convert:hover {\n",
              "      background-color: #434B5C;\n",
              "      box-shadow: 0px 1px 3px 1px rgba(0, 0, 0, 0.15);\n",
              "      filter: drop-shadow(0px 1px 2px rgba(0, 0, 0, 0.3));\n",
              "      fill: #FFFFFF;\n",
              "    }\n",
              "  </style>\n",
              "\n",
              "      <script>\n",
              "        const buttonEl =\n",
              "          document.querySelector('#df-29d90eeb-bbd0-453d-9362-d2ee792cde40 button.colab-df-convert');\n",
              "        buttonEl.style.display =\n",
              "          google.colab.kernel.accessAllowed ? 'block' : 'none';\n",
              "\n",
              "        async function convertToInteractive(key) {\n",
              "          const element = document.querySelector('#df-29d90eeb-bbd0-453d-9362-d2ee792cde40');\n",
              "          const dataTable =\n",
              "            await google.colab.kernel.invokeFunction('convertToInteractive',\n",
              "                                                     [key], {});\n",
              "          if (!dataTable) return;\n",
              "\n",
              "          const docLinkHtml = 'Like what you see? Visit the ' +\n",
              "            '<a target=\"_blank\" href=https://colab.research.google.com/notebooks/data_table.ipynb>data table notebook</a>'\n",
              "            + ' to learn more about interactive tables.';\n",
              "          element.innerHTML = '';\n",
              "          dataTable['output_type'] = 'display_data';\n",
              "          await google.colab.output.renderOutput(dataTable, element);\n",
              "          const docLink = document.createElement('div');\n",
              "          docLink.innerHTML = docLinkHtml;\n",
              "          element.appendChild(docLink);\n",
              "        }\n",
              "      </script>\n",
              "    </div>\n",
              "  </div>\n",
              "  "
            ]
          },
          "metadata": {},
          "execution_count": 29
        }
      ],
      "source": [
        "df.head()"
      ]
    },
    {
      "cell_type": "code",
      "execution_count": null,
      "metadata": {
        "id": "pzECDCVrLPrZ"
      },
      "outputs": [],
      "source": [
        "clean_text = []\n",
        "for text in df['text']:\n",
        "  new = clean_all(text)\n",
        "  clean_text.append(new)"
      ]
    },
    {
      "cell_type": "code",
      "execution_count": null,
      "metadata": {
        "id": "l5oG7zHSLU_W"
      },
      "outputs": [],
      "source": [
        "clean_dataset = pd.DataFrame({'text':clean_text, 'label':df['label']})"
      ]
    },
    {
      "cell_type": "code",
      "source": [
        "clean_dataset.head(4)"
      ],
      "metadata": {
        "id": "ea6IICXugGJE",
        "colab": {
          "base_uri": "https://localhost:8080/",
          "height": 175
        },
        "outputId": "a1d2e0f1-a77b-4fe1-90c3-3a93da2f61f8"
      },
      "execution_count": null,
      "outputs": [
        {
          "output_type": "execute_result",
          "data": {
            "text/plain": [
              "                                                text  label\n",
              "0  بعد استقاله رئيس المحكمه_الدستوريه نتظر استقال...      2\n",
              "1  اهنئ الدكتور احمد جمال الدين القيادي بحزب مصر ...      3\n",
              "2  البرادعي يستقوي بامريكا مرهاخري و يرسل عصام ال...      0\n",
              "3  الحريه_والعداله شاهد الان ليله_الاتحاديه اول ف...      2"
            ],
            "text/html": [
              "\n",
              "  <div id=\"df-797b6583-22ce-4f76-a45c-4526730c8b7a\">\n",
              "    <div class=\"colab-df-container\">\n",
              "      <div>\n",
              "<style scoped>\n",
              "    .dataframe tbody tr th:only-of-type {\n",
              "        vertical-align: middle;\n",
              "    }\n",
              "\n",
              "    .dataframe tbody tr th {\n",
              "        vertical-align: top;\n",
              "    }\n",
              "\n",
              "    .dataframe thead th {\n",
              "        text-align: right;\n",
              "    }\n",
              "</style>\n",
              "<table border=\"1\" class=\"dataframe\">\n",
              "  <thead>\n",
              "    <tr style=\"text-align: right;\">\n",
              "      <th></th>\n",
              "      <th>text</th>\n",
              "      <th>label</th>\n",
              "    </tr>\n",
              "  </thead>\n",
              "  <tbody>\n",
              "    <tr>\n",
              "      <th>0</th>\n",
              "      <td>بعد استقاله رئيس المحكمه_الدستوريه نتظر استقال...</td>\n",
              "      <td>2</td>\n",
              "    </tr>\n",
              "    <tr>\n",
              "      <th>1</th>\n",
              "      <td>اهنئ الدكتور احمد جمال الدين القيادي بحزب مصر ...</td>\n",
              "      <td>3</td>\n",
              "    </tr>\n",
              "    <tr>\n",
              "      <th>2</th>\n",
              "      <td>البرادعي يستقوي بامريكا مرهاخري و يرسل عصام ال...</td>\n",
              "      <td>0</td>\n",
              "    </tr>\n",
              "    <tr>\n",
              "      <th>3</th>\n",
              "      <td>الحريه_والعداله شاهد الان ليله_الاتحاديه اول ف...</td>\n",
              "      <td>2</td>\n",
              "    </tr>\n",
              "  </tbody>\n",
              "</table>\n",
              "</div>\n",
              "      <button class=\"colab-df-convert\" onclick=\"convertToInteractive('df-797b6583-22ce-4f76-a45c-4526730c8b7a')\"\n",
              "              title=\"Convert this dataframe to an interactive table.\"\n",
              "              style=\"display:none;\">\n",
              "        \n",
              "  <svg xmlns=\"http://www.w3.org/2000/svg\" height=\"24px\"viewBox=\"0 0 24 24\"\n",
              "       width=\"24px\">\n",
              "    <path d=\"M0 0h24v24H0V0z\" fill=\"none\"/>\n",
              "    <path d=\"M18.56 5.44l.94 2.06.94-2.06 2.06-.94-2.06-.94-.94-2.06-.94 2.06-2.06.94zm-11 1L8.5 8.5l.94-2.06 2.06-.94-2.06-.94L8.5 2.5l-.94 2.06-2.06.94zm10 10l.94 2.06.94-2.06 2.06-.94-2.06-.94-.94-2.06-.94 2.06-2.06.94z\"/><path d=\"M17.41 7.96l-1.37-1.37c-.4-.4-.92-.59-1.43-.59-.52 0-1.04.2-1.43.59L10.3 9.45l-7.72 7.72c-.78.78-.78 2.05 0 2.83L4 21.41c.39.39.9.59 1.41.59.51 0 1.02-.2 1.41-.59l7.78-7.78 2.81-2.81c.8-.78.8-2.07 0-2.86zM5.41 20L4 18.59l7.72-7.72 1.47 1.35L5.41 20z\"/>\n",
              "  </svg>\n",
              "      </button>\n",
              "      \n",
              "  <style>\n",
              "    .colab-df-container {\n",
              "      display:flex;\n",
              "      flex-wrap:wrap;\n",
              "      gap: 12px;\n",
              "    }\n",
              "\n",
              "    .colab-df-convert {\n",
              "      background-color: #E8F0FE;\n",
              "      border: none;\n",
              "      border-radius: 50%;\n",
              "      cursor: pointer;\n",
              "      display: none;\n",
              "      fill: #1967D2;\n",
              "      height: 32px;\n",
              "      padding: 0 0 0 0;\n",
              "      width: 32px;\n",
              "    }\n",
              "\n",
              "    .colab-df-convert:hover {\n",
              "      background-color: #E2EBFA;\n",
              "      box-shadow: 0px 1px 2px rgba(60, 64, 67, 0.3), 0px 1px 3px 1px rgba(60, 64, 67, 0.15);\n",
              "      fill: #174EA6;\n",
              "    }\n",
              "\n",
              "    [theme=dark] .colab-df-convert {\n",
              "      background-color: #3B4455;\n",
              "      fill: #D2E3FC;\n",
              "    }\n",
              "\n",
              "    [theme=dark] .colab-df-convert:hover {\n",
              "      background-color: #434B5C;\n",
              "      box-shadow: 0px 1px 3px 1px rgba(0, 0, 0, 0.15);\n",
              "      filter: drop-shadow(0px 1px 2px rgba(0, 0, 0, 0.3));\n",
              "      fill: #FFFFFF;\n",
              "    }\n",
              "  </style>\n",
              "\n",
              "      <script>\n",
              "        const buttonEl =\n",
              "          document.querySelector('#df-797b6583-22ce-4f76-a45c-4526730c8b7a button.colab-df-convert');\n",
              "        buttonEl.style.display =\n",
              "          google.colab.kernel.accessAllowed ? 'block' : 'none';\n",
              "\n",
              "        async function convertToInteractive(key) {\n",
              "          const element = document.querySelector('#df-797b6583-22ce-4f76-a45c-4526730c8b7a');\n",
              "          const dataTable =\n",
              "            await google.colab.kernel.invokeFunction('convertToInteractive',\n",
              "                                                     [key], {});\n",
              "          if (!dataTable) return;\n",
              "\n",
              "          const docLinkHtml = 'Like what you see? Visit the ' +\n",
              "            '<a target=\"_blank\" href=https://colab.research.google.com/notebooks/data_table.ipynb>data table notebook</a>'\n",
              "            + ' to learn more about interactive tables.';\n",
              "          element.innerHTML = '';\n",
              "          dataTable['output_type'] = 'display_data';\n",
              "          await google.colab.output.renderOutput(dataTable, element);\n",
              "          const docLink = document.createElement('div');\n",
              "          docLink.innerHTML = docLinkHtml;\n",
              "          element.appendChild(docLink);\n",
              "        }\n",
              "      </script>\n",
              "    </div>\n",
              "  </div>\n",
              "  "
            ]
          },
          "metadata": {},
          "execution_count": 32
        }
      ]
    },
    {
      "cell_type": "markdown",
      "source": [
        "#3- Feature Extraction"
      ],
      "metadata": {
        "id": "Z8L77zcnmvX4"
      }
    },
    {
      "cell_type": "code",
      "source": [
        "X = clean_dataset['text']\n",
        "y = clean_dataset['label']\n",
        "X_train, X_test, y_train, y_test = train_test_split(X, y, test_size=0.2, random_state=42)\n",
        "X_train.shape, X_test.shape, y_train.shape, y_test.shape"
      ],
      "metadata": {
        "colab": {
          "base_uri": "https://localhost:8080/"
        },
        "id": "MghCsiq9nmoU",
        "outputId": "16c1bd0c-067d-44e1-fd88-790d8da06ea3"
      },
      "execution_count": null,
      "outputs": [
        {
          "output_type": "execute_result",
          "data": {
            "text/plain": [
              "((7755,), (1939,), (7755,), (1939,))"
            ]
          },
          "metadata": {},
          "execution_count": 33
        }
      ]
    },
    {
      "cell_type": "code",
      "source": [
        "# tf-idf\n",
        "vectorizer = TfidfVectorizer()\n",
        "X_train = vectorizer.fit_transform(X_train)\n",
        "X_test = vectorizer.transform(X_test)"
      ],
      "metadata": {
        "id": "8tZGwnPbmqN0"
      },
      "execution_count": null,
      "outputs": []
    },
    {
      "cell_type": "markdown",
      "source": [
        "# **-Randomized Search & Cross Validation and base line**"
      ],
      "metadata": {
        "id": "X6f3A0b6n61t"
      }
    },
    {
      "cell_type": "code",
      "source": [
        "def randomized_search(model, parameters):\n",
        "    # Use f1_weighted as scoring since we already know that the dataset has imbalance labels\n",
        "    random = RandomizedSearchCV(model, parameters, cv=5, scoring='f1_weighted')\n",
        "    random.fit(X_train, y_train)\n",
        "    print()\n",
        "    print('Best Score : ',random.best_score_)\n",
        "    print('Best parameters : ')\n",
        "    print(random.best_params_)"
      ],
      "metadata": {
        "id": "VpumezGjn21D"
      },
      "execution_count": null,
      "outputs": []
    },
    {
      "cell_type": "markdown",
      "source": [
        "here I will make base line to see the result from ML model and the try to improve the result by Neural Network"
      ],
      "metadata": {
        "id": "ntFpR1myoj3Z"
      }
    },
    {
      "cell_type": "code",
      "source": [
        "svc = SVC(class_weight='balanced')\n",
        "svc_param = {'C':[0.001, 0.01, 0.1, 1, 10],\n",
        "              'kernel':['linear','poly','rbf','sigmoid'],\n",
        "              'gamma':['scale','auto']}\n",
        "randomized_search(svc, svc_param)"
      ],
      "metadata": {
        "id": "iX-VwrJIoSM4",
        "colab": {
          "base_uri": "https://localhost:8080/"
        },
        "outputId": "d42ecef9-e065-42cb-9bc1-acbad24bc67d"
      },
      "execution_count": null,
      "outputs": [
        {
          "output_type": "stream",
          "name": "stdout",
          "text": [
            "\n",
            "Best Score :  0.6277052521067474\n",
            "Best parameters : \n",
            "{'kernel': 'linear', 'gamma': 'auto', 'C': 1}\n"
          ]
        }
      ]
    },
    {
      "cell_type": "markdown",
      "source": [
        "\n",
        "\n",
        "```\n",
        "this resut after preprocess the data and i remove the stopwords and emojies\n",
        "```\n",
        "\n"
      ],
      "metadata": {
        "id": "UIw3c0JAO7W_"
      }
    },
    {
      "cell_type": "code",
      "source": [
        "SVC_model = SVC(class_weight='balanced',C=10,gamma='scale',kernel='linear')\n",
        "SVC_model.fit(X_train, y_train)\n",
        "pred = SVC_model.predict(X_test)\n",
        "print(classification_report(y_test, pred))"
      ],
      "metadata": {
        "id": "S2meHr-dpE1E",
        "colab": {
          "base_uri": "https://localhost:8080/"
        },
        "outputId": "e311089d-fbcf-4641-a591-ac35396613b5"
      },
      "execution_count": null,
      "outputs": [
        {
          "output_type": "stream",
          "name": "stdout",
          "text": [
            "              precision    recall  f1-score   support\n",
            "\n",
            "           0       0.46      0.38      0.42       333\n",
            "           1       0.26      0.15      0.19       170\n",
            "           2       0.73      0.86      0.79      1276\n",
            "           3       0.40      0.20      0.27       160\n",
            "\n",
            "    accuracy                           0.66      1939\n",
            "   macro avg       0.46      0.40      0.42      1939\n",
            "weighted avg       0.62      0.66      0.63      1939\n",
            "\n"
          ]
        }
      ]
    },
    {
      "cell_type": "markdown",
      "source": [
        "#RNN\n"
      ],
      "metadata": {
        "id": "wVGL_vtp3laI"
      }
    },
    {
      "cell_type": "markdown",
      "source": [
        "\n",
        "\n",
        "<mark> prepare data for NN model\n",
        "\n"
      ],
      "metadata": {
        "id": "_kAhEO_5iacS"
      }
    },
    {
      "cell_type": "code",
      "source": [
        "seq_len = 80\n",
        "max_vocab = 20000\n",
        "\n",
        "\n",
        "tokenizer = Tokenizer(num_words=max_vocab)\n",
        "tokenizer.fit_on_texts(clean_dataset.text)\n",
        "\n",
        "\n",
        "X_train, X_test, y_train, y_test = train_test_split(clean_dataset.text, clean_dataset.label,\n",
        "                                                    test_size=0.2, random_state = 42)\n",
        "\n",
        "y_train_cat = np_utils.to_categorical(y_train)\n",
        "y_test_cat = np_utils.to_categorical(y_test)\n",
        "\n",
        "X_train = tokenizer.texts_to_sequences(X_train)\n",
        "X_train = pad_sequences(X_train, maxlen=seq_len)\n",
        "\n",
        "X_test = tokenizer.texts_to_sequences(X_test)\n",
        "X_test = pad_sequences(X_test, maxlen=seq_len)"
      ],
      "metadata": {
        "id": "ovTiu3lj309y"
      },
      "execution_count": null,
      "outputs": []
    },
    {
      "cell_type": "markdown",
      "source": [
        "## -bidirectional LSTM"
      ],
      "metadata": {
        "id": "_iUvTBjuwyUD"
      }
    },
    {
      "cell_type": "code",
      "source": [
        "embedding_dim = 40\n",
        "\n",
        "inp = Input(shape=(seq_len,))\n",
        "x = Embedding(max_vocab, embedding_dim)(inp)\n",
        "x = Bidirectional(LSTM(32, recurrent_dropout=.5))(x)\n",
        "x = Dense(32)(x)\n",
        "y = Dense(4, activation='softmax')(x)\n",
        "\n",
        "NN = Model(inp, y)\n",
        "NN.summary()"
      ],
      "metadata": {
        "colab": {
          "base_uri": "https://localhost:8080/"
        },
        "id": "7b9gRmLRCJbu",
        "outputId": "20d0d9ec-9a4b-45f9-f9d4-158fb39c0601"
      },
      "execution_count": null,
      "outputs": [
        {
          "output_type": "stream",
          "name": "stderr",
          "text": [
            "WARNING:tensorflow:Layer lstm will not use cuDNN kernels since it doesn't meet the criteria. It will use a generic GPU kernel as fallback when running on GPU.\n",
            "WARNING:tensorflow:Layer lstm will not use cuDNN kernels since it doesn't meet the criteria. It will use a generic GPU kernel as fallback when running on GPU.\n",
            "WARNING:tensorflow:Layer lstm will not use cuDNN kernels since it doesn't meet the criteria. It will use a generic GPU kernel as fallback when running on GPU.\n"
          ]
        },
        {
          "output_type": "stream",
          "name": "stdout",
          "text": [
            "Model: \"model\"\n",
            "_________________________________________________________________\n",
            " Layer (type)                Output Shape              Param #   \n",
            "=================================================================\n",
            " input_1 (InputLayer)        [(None, 80)]              0         \n",
            "                                                                 \n",
            " embedding (Embedding)       (None, 80, 40)            800000    \n",
            "                                                                 \n",
            " bidirectional (Bidirectiona  (None, 64)               18688     \n",
            " l)                                                              \n",
            "                                                                 \n",
            " dense (Dense)               (None, 32)                2080      \n",
            "                                                                 \n",
            " dense_1 (Dense)             (None, 4)                 132       \n",
            "                                                                 \n",
            "=================================================================\n",
            "Total params: 820,900\n",
            "Trainable params: 820,900\n",
            "Non-trainable params: 0\n",
            "_________________________________________________________________\n"
          ]
        }
      ]
    },
    {
      "cell_type": "code",
      "source": [
        "NN.compile(loss='categorical_crossentropy', optimizer='adam', metrics=['accuracy'])\n",
        "history = NN.fit(X_train, y_train_cat,\n",
        "                 validation_split=.2,\n",
        "                 epochs=2, batch_size=46, verbose=1, steps_per_epoch=60)"
      ],
      "metadata": {
        "id": "EcE-4HjsFn5i",
        "colab": {
          "base_uri": "https://localhost:8080/"
        },
        "outputId": "39d13c21-73bc-42bd-98a5-ee1bdafe31f3"
      },
      "execution_count": null,
      "outputs": [
        {
          "output_type": "stream",
          "name": "stdout",
          "text": [
            "Epoch 1/2\n",
            "60/60 [==============================] - 39s 554ms/step - loss: 1.0177 - accuracy: 0.6779 - val_loss: 0.9622 - val_accuracy: 0.6699\n",
            "Epoch 2/2\n",
            "60/60 [==============================] - 33s 548ms/step - loss: 0.9568 - accuracy: 0.6638 - val_loss: 0.9292 - val_accuracy: 0.6699\n"
          ]
        }
      ]
    },
    {
      "cell_type": "code",
      "source": [
        "y_pred = np.argmax(NN.predict(X_test), axis=1)\n",
        "print('[loss, acc]: ',NN.evaluate(X_test, y_test_cat))\n",
        "print('\\nf1 score for test set: ',f1_score(y_test, y_pred, average='weighted'))"
      ],
      "metadata": {
        "colab": {
          "base_uri": "https://localhost:8080/"
        },
        "id": "8i4qDMbcINp_",
        "outputId": "d4146524-91b0-4ce1-eb4b-6f03008dd718"
      },
      "execution_count": null,
      "outputs": [
        {
          "output_type": "stream",
          "name": "stdout",
          "text": [
            "61/61 [==============================] - 3s 43ms/step\n",
            "61/61 [==============================] - 3s 44ms/step - loss: 0.9605 - accuracy: 0.6581\n",
            "[loss, acc]:  [0.9604543447494507, 0.6580711603164673]\n",
            "\n",
            "f1 score for test set:  0.5223631812264743\n"
          ]
        }
      ]
    },
    {
      "cell_type": "markdown",
      "source": [
        "## -LSTM"
      ],
      "metadata": {
        "id": "MMUuqQrkfVs9"
      }
    },
    {
      "cell_type": "markdown",
      "source": [
        "\n",
        "---\n",
        "```\n",
        "# first archatecture\n",
        "```\n",
        "---\n",
        "\n"
      ],
      "metadata": {
        "id": "7TxTl1_pX6r1"
      }
    },
    {
      "cell_type": "code",
      "source": [
        "lstm = tf.keras.Sequential([\n",
        "    tf.keras.layers.Embedding(vocab_size+1, 32, input_length=max_sequence_length),\n",
        "    tf.keras.layers.LSTM(units=64, activation='tanh', return_sequences=False),\n",
        "    tf.keras.layers.Dropout(0.2),\n",
        "    tf.keras.layers.Dense(4, activation='softmax')\n",
        "])\n",
        "opt = tf.keras.optimizers.Adam(learning_rate=0.01)\n",
        "lstm.compile(loss='binary_crossentropy',optimizer=\"adam\",metrics=['accuracy'])\n",
        "lstm.fit(x_train,y_train, batch_size=64, epochs=2)"
      ],
      "metadata": {
        "colab": {
          "base_uri": "https://localhost:8080/"
        },
        "id": "8adTWgFHDhkI",
        "outputId": "999d2222-0fb6-4f1c-984f-025d43d030ea"
      },
      "execution_count": null,
      "outputs": [
        {
          "output_type": "stream",
          "name": "stdout",
          "text": [
            "Epoch 1/2\n",
            "122/122 [==============================] - 3s 9ms/step - loss: 0.4526 - accuracy: 0.6579\n",
            "Epoch 2/2\n",
            "122/122 [==============================] - 1s 9ms/step - loss: 0.4166 - accuracy: 0.6646\n"
          ]
        },
        {
          "output_type": "execute_result",
          "data": {
            "text/plain": [
              "<keras.callbacks.History at 0x7fa2036cdb50>"
            ]
          },
          "metadata": {},
          "execution_count": 108
        }
      ]
    },
    {
      "cell_type": "code",
      "source": [
        "y_pred = np.argmax(lstm.predict(x_test), axis=1)\n",
        "print('[loss, acc]: ', lstm.evaluate(x_test, y_test_cat))\n",
        "print('\\nf1 score for test set: ', f1_score(y_test, y_pred, average='weighted'))"
      ],
      "metadata": {
        "colab": {
          "base_uri": "https://localhost:8080/"
        },
        "id": "yRnM4CA0Dhg0",
        "outputId": "56e18a85-c7bf-428a-fcc0-e37a17af91d0"
      },
      "execution_count": null,
      "outputs": [
        {
          "output_type": "stream",
          "name": "stdout",
          "text": [
            "61/61 [==============================] - 0s 4ms/step\n",
            "61/61 [==============================] - 0s 5ms/step - loss: 0.4212 - accuracy: 0.6581\n",
            "[loss, acc]:  [0.4211788773536682, 0.6580711603164673]\n",
            "\n",
            "f1 score for test set:  0.5223631812264743\n"
          ]
        }
      ]
    },
    {
      "cell_type": "markdown",
      "source": [
        "\n",
        "---\n",
        "```\n",
        "# second archatecture\n",
        "```\n",
        "---\n",
        "\n"
      ],
      "metadata": {
        "id": "0k6bc2hkYCiI"
      }
    },
    {
      "cell_type": "code",
      "source": [
        "input_shape = (np.array(X_train).shape[1],)\n",
        "embedding_dim = 20\n",
        "emb_vocab = max_vocab + 1\n",
        "\n",
        "x_in = Input(shape=input_shape)\n",
        "x = Embedding(emb_vocab,embedding_dim)(x_in)\n",
        "x = LSTM(15,return_sequences=True)(x)\n",
        "x = GlobalMaxPool1D()(x)\n",
        "x = Dense(32,activation='relu')(x)\n",
        "x = Dense(4,activation='softmax')(x)\n",
        "model = tf.keras.models.Model(x_in,x)\n",
        "model.summary()"
      ],
      "metadata": {
        "colab": {
          "base_uri": "https://localhost:8080/"
        },
        "id": "vPds4WUUeGJj",
        "outputId": "58ea071f-d8cc-491c-8ba9-32a91d3563ad"
      },
      "execution_count": null,
      "outputs": [
        {
          "output_type": "stream",
          "name": "stdout",
          "text": [
            "Model: \"model_1\"\n",
            "_________________________________________________________________\n",
            " Layer (type)                Output Shape              Param #   \n",
            "=================================================================\n",
            " input_2 (InputLayer)        [(None, 80)]              0         \n",
            "                                                                 \n",
            " embedding_1 (Embedding)     (None, 80, 20)            400020    \n",
            "                                                                 \n",
            " lstm_1 (LSTM)               (None, 80, 15)            2160      \n",
            "                                                                 \n",
            " global_max_pooling1d (Globa  (None, 15)               0         \n",
            " lMaxPooling1D)                                                  \n",
            "                                                                 \n",
            " dense_2 (Dense)             (None, 32)                512       \n",
            "                                                                 \n",
            " dense_3 (Dense)             (None, 4)                 132       \n",
            "                                                                 \n",
            "=================================================================\n",
            "Total params: 402,824\n",
            "Trainable params: 402,824\n",
            "Non-trainable params: 0\n",
            "_________________________________________________________________\n"
          ]
        }
      ]
    },
    {
      "cell_type": "code",
      "source": [
        "tf.keras.utils.plot_model(model,show_shapes=True)"
      ],
      "metadata": {
        "colab": {
          "base_uri": "https://localhost:8080/",
          "height": 644
        },
        "id": "9PjedurAgF2e",
        "outputId": "c76f29ba-1900-4619-9d2b-5ac8feeea88e"
      },
      "execution_count": null,
      "outputs": [
        {
          "output_type": "execute_result",
          "data": {
            "image/png": "[encoded data removed]",
            "text/plain": [
              "<IPython.core.display.Image object>"
            ]
          },
          "metadata": {},
          "execution_count": 41
        }
      ]
    },
    {
      "cell_type": "code",
      "source": [
        "model.compile(optimizer=tf.keras.optimizers.Adam(0.001),\n",
        "             loss='categorical_crossentropy',\n",
        "             metrics=['accuracy'])\n",
        "\n",
        "es_cb = tf.keras.callbacks.EarlyStopping('loss',patience=3)\n",
        "\n",
        "model.fit(X_train, y_train_cat, epochs=50, batch_size=16, callbacks=[es_cb], validation_split=.2)"
      ],
      "metadata": {
        "colab": {
          "base_uri": "https://localhost:8080/"
        },
        "id": "TEWEB31GgJc2",
        "outputId": "92a5fd0d-ae97-4eb3-8390-84449a95bf94"
      },
      "execution_count": null,
      "outputs": [
        {
          "output_type": "stream",
          "name": "stdout",
          "text": [
            "Epoch 1/50\n",
            "388/388 [==============================] - 8s 9ms/step - loss: 1.0114 - accuracy: 0.6696 - val_loss: 0.9721 - val_accuracy: 0.6699\n",
            "Epoch 2/50\n",
            "388/388 [==============================] - 3s 8ms/step - loss: 0.9589 - accuracy: 0.6697 - val_loss: 0.9303 - val_accuracy: 0.6699\n",
            "Epoch 3/50\n",
            "388/388 [==============================] - 3s 9ms/step - loss: 0.8022 - accuracy: 0.6995 - val_loss: 0.9208 - val_accuracy: 0.6383\n",
            "Epoch 4/50\n",
            "388/388 [==============================] - 3s 8ms/step - loss: 0.5712 - accuracy: 0.7793 - val_loss: 1.0729 - val_accuracy: 0.6486\n",
            "Epoch 5/50\n",
            "388/388 [==============================] - 3s 9ms/step - loss: 0.4214 - accuracy: 0.8335 - val_loss: 1.2755 - val_accuracy: 0.6396\n",
            "Epoch 6/50\n",
            "388/388 [==============================] - 3s 9ms/step - loss: 0.3102 - accuracy: 0.8773 - val_loss: 1.3923 - val_accuracy: 0.6306\n",
            "Epoch 7/50\n",
            "388/388 [==============================] - 3s 9ms/step - loss: 0.2219 - accuracy: 0.9204 - val_loss: 1.6085 - val_accuracy: 0.6132\n",
            "Epoch 8/50\n",
            "388/388 [==============================] - 3s 8ms/step - loss: 0.1358 - accuracy: 0.9581 - val_loss: 1.7819 - val_accuracy: 0.6144\n",
            "Epoch 9/50\n",
            "388/388 [==============================] - 3s 8ms/step - loss: 0.0801 - accuracy: 0.9774 - val_loss: 1.9155 - val_accuracy: 0.6009\n",
            "Epoch 10/50\n",
            "388/388 [==============================] - 3s 8ms/step - loss: 0.0568 - accuracy: 0.9836 - val_loss: 1.9351 - val_accuracy: 0.6106\n",
            "Epoch 11/50\n",
            "388/388 [==============================] - 3s 9ms/step - loss: 0.0455 - accuracy: 0.9863 - val_loss: 2.1066 - val_accuracy: 0.5925\n",
            "Epoch 12/50\n",
            "388/388 [==============================] - 3s 8ms/step - loss: 0.0395 - accuracy: 0.9874 - val_loss: 2.1434 - val_accuracy: 0.6074\n",
            "Epoch 13/50\n",
            "388/388 [==============================] - 3s 9ms/step - loss: 0.0326 - accuracy: 0.9890 - val_loss: 2.2351 - val_accuracy: 0.6093\n",
            "Epoch 14/50\n",
            "388/388 [==============================] - 3s 9ms/step - loss: 0.0313 - accuracy: 0.9902 - val_loss: 2.3403 - val_accuracy: 0.5912\n",
            "Epoch 15/50\n",
            "388/388 [==============================] - 3s 8ms/step - loss: 0.0285 - accuracy: 0.9905 - val_loss: 2.3186 - val_accuracy: 0.6209\n",
            "Epoch 16/50\n",
            "388/388 [==============================] - 3s 8ms/step - loss: 0.0255 - accuracy: 0.9916 - val_loss: 2.2537 - val_accuracy: 0.6157\n",
            "Epoch 17/50\n",
            "388/388 [==============================] - 3s 8ms/step - loss: 0.0234 - accuracy: 0.9916 - val_loss: 2.4355 - val_accuracy: 0.5790\n",
            "Epoch 18/50\n",
            "388/388 [==============================] - 3s 8ms/step - loss: 0.0219 - accuracy: 0.9924 - val_loss: 2.4664 - val_accuracy: 0.5983\n",
            "Epoch 19/50\n",
            "388/388 [==============================] - 3s 8ms/step - loss: 0.0203 - accuracy: 0.9927 - val_loss: 2.4228 - val_accuracy: 0.6260\n",
            "Epoch 20/50\n",
            "388/388 [==============================] - 3s 9ms/step - loss: 0.0203 - accuracy: 0.9934 - val_loss: 2.5167 - val_accuracy: 0.6080\n",
            "Epoch 21/50\n",
            "388/388 [==============================] - 3s 9ms/step - loss: 0.0179 - accuracy: 0.9934 - val_loss: 2.4280 - val_accuracy: 0.6183\n",
            "Epoch 22/50\n",
            "388/388 [==============================] - 3s 9ms/step - loss: 0.0183 - accuracy: 0.9937 - val_loss: 2.5242 - val_accuracy: 0.6202\n",
            "Epoch 23/50\n",
            "388/388 [==============================] - 3s 8ms/step - loss: 0.0169 - accuracy: 0.9937 - val_loss: 2.5937 - val_accuracy: 0.6119\n",
            "Epoch 24/50\n",
            "388/388 [==============================] - 3s 8ms/step - loss: 0.0169 - accuracy: 0.9940 - val_loss: 2.5600 - val_accuracy: 0.6009\n",
            "Epoch 25/50\n",
            "388/388 [==============================] - 3s 8ms/step - loss: 0.0166 - accuracy: 0.9934 - val_loss: 2.6429 - val_accuracy: 0.6132\n",
            "Epoch 26/50\n",
            "388/388 [==============================] - 3s 8ms/step - loss: 0.0147 - accuracy: 0.9944 - val_loss: 2.6008 - val_accuracy: 0.5906\n",
            "Epoch 27/50\n",
            "388/388 [==============================] - 3s 9ms/step - loss: 0.0140 - accuracy: 0.9947 - val_loss: 2.6962 - val_accuracy: 0.6067\n",
            "Epoch 28/50\n",
            "388/388 [==============================] - 3s 8ms/step - loss: 0.0150 - accuracy: 0.9942 - val_loss: 2.7775 - val_accuracy: 0.5912\n",
            "Epoch 29/50\n",
            "388/388 [==============================] - 3s 8ms/step - loss: 0.0137 - accuracy: 0.9953 - val_loss: 2.6926 - val_accuracy: 0.6093\n",
            "Epoch 30/50\n",
            "388/388 [==============================] - 3s 8ms/step - loss: 0.0138 - accuracy: 0.9947 - val_loss: 2.7116 - val_accuracy: 0.5970\n",
            "Epoch 31/50\n",
            "388/388 [==============================] - 3s 8ms/step - loss: 0.0133 - accuracy: 0.9953 - val_loss: 2.7946 - val_accuracy: 0.6086\n",
            "Epoch 32/50\n",
            "388/388 [==============================] - 3s 8ms/step - loss: 0.0148 - accuracy: 0.9940 - val_loss: 2.7368 - val_accuracy: 0.6383\n",
            "Epoch 33/50\n",
            "388/388 [==============================] - 3s 8ms/step - loss: 0.0141 - accuracy: 0.9944 - val_loss: 2.6797 - val_accuracy: 0.6248\n",
            "Epoch 34/50\n",
            "388/388 [==============================] - 3s 8ms/step - loss: 0.0133 - accuracy: 0.9947 - val_loss: 2.8291 - val_accuracy: 0.5712\n",
            "Epoch 35/50\n",
            "388/388 [==============================] - 3s 8ms/step - loss: 0.0120 - accuracy: 0.9952 - val_loss: 2.8192 - val_accuracy: 0.6054\n",
            "Epoch 36/50\n",
            "388/388 [==============================] - 3s 8ms/step - loss: 0.0126 - accuracy: 0.9950 - val_loss: 2.9126 - val_accuracy: 0.5854\n",
            "Epoch 37/50\n",
            "388/388 [==============================] - 3s 8ms/step - loss: 0.0126 - accuracy: 0.9948 - val_loss: 2.7633 - val_accuracy: 0.6409\n",
            "Epoch 38/50\n",
            "388/388 [==============================] - 3s 8ms/step - loss: 0.0126 - accuracy: 0.9950 - val_loss: 2.7243 - val_accuracy: 0.6080\n"
          ]
        },
        {
          "output_type": "execute_result",
          "data": {
            "text/plain": [
              "<keras.callbacks.History at 0x7fa19ce26820>"
            ]
          },
          "metadata": {},
          "execution_count": 42
        }
      ]
    },
    {
      "cell_type": "code",
      "source": [
        "y_pred = np.argmax(model.predict(X_test), axis=1)\n",
        "print('[loss, acc]: ',model.evaluate(X_test, y_test_cat))\n",
        "print('\\nf1 score for test set: ',f1_score(y_test, y_pred, average='weighted'))"
      ],
      "metadata": {
        "id": "rA6ZpDGMgfR8",
        "colab": {
          "base_uri": "https://localhost:8080/"
        },
        "outputId": "2be4ac8b-600d-4f11-8516-e384610316ed"
      },
      "execution_count": null,
      "outputs": [
        {
          "output_type": "stream",
          "name": "stdout",
          "text": [
            "61/61 [==============================] - 1s 3ms/step\n",
            "61/61 [==============================] - 0s 5ms/step - loss: 2.8104 - accuracy: 0.6117\n",
            "[loss, acc]:  [2.810445785522461, 0.6116554737091064]\n",
            "\n",
            "f1 score for test set:  0.5993734449208051\n"
          ]
        }
      ]
    },
    {
      "cell_type": "markdown",
      "source": [
        "# arabic sentiment analysis by word2vec"
      ],
      "metadata": {
        "id": "Da9aP-IsjqPC"
      }
    },
    {
      "cell_type": "code",
      "source": [
        "def load_w2v(file_path,binary):\n",
        "    return KeyedVectors.load_word2vec_format(file_path,binary=binary)"
      ],
      "metadata": {
        "id": "pFQepAkmi5k1"
      },
      "execution_count": null,
      "outputs": []
    },
    {
      "cell_type": "code",
      "source": [
        "!wget https://dl.fbaipublicfiles.com/fasttext/vectors-wiki/wiki.ar.vec"
      ],
      "metadata": {
        "colab": {
          "base_uri": "https://localhost:8080/"
        },
        "id": "FqZO6b5Vj1cN",
        "outputId": "b5600aea-9d30-41ed-a7b4-8f03e65438f9"
      },
      "execution_count": null,
      "outputs": [
        {
          "output_type": "stream",
          "name": "stdout",
          "text": [
            "--2023-01-13 15:39:36--  https://dl.fbaipublicfiles.com/fasttext/vectors-wiki/wiki.ar.vec\n",
            "Resolving dl.fbaipublicfiles.com (dl.fbaipublicfiles.com)... 172.67.9.4, 104.22.74.142, 104.22.75.142, ...\n",
            "Connecting to dl.fbaipublicfiles.com (dl.fbaipublicfiles.com)|172.67.9.4|:443... connected.\n",
            "HTTP request sent, awaiting response... 200 OK\n",
            "Length: 1610017300 (1.5G) [binary/octet-stream]\n",
            "Saving to: ‘wiki.ar.vec’\n",
            "\n",
            "wiki.ar.vec         100%[===================>]   1.50G  25.3MB/s    in 62s     \n",
            "\n",
            "2023-01-13 15:40:39 (24.7 MB/s) - ‘wiki.ar.vec’ saved [1610017300/1610017300]\n",
            "\n"
          ]
        }
      ]
    },
    {
      "cell_type": "code",
      "source": [
        "w2v_file = r'/content/wiki.ar.vec'\n",
        "w2v =  KeyedVectors.load_word2vec_format(w2v_file, binary=False)\n",
        "print(len(w2v.vocab))"
      ],
      "metadata": {
        "colab": {
          "base_uri": "https://localhost:8080/"
        },
        "id": "w6eveGgej5Qv",
        "outputId": "706e1909-9d94-4b3a-8aa8-b2b838ce4583"
      },
      "execution_count": null,
      "outputs": [
        {
          "output_type": "stream",
          "name": "stdout",
          "text": [
            "610977\n"
          ]
        }
      ]
    },
    {
      "cell_type": "code",
      "source": [
        "max_sequence_length=100\n",
        "max_nm_words=len(w2v.vocab)\n",
        "embeding_dim=150"
      ],
      "metadata": {
        "id": "REpUVl4ckGP7"
      },
      "execution_count": null,
      "outputs": []
    },
    {
      "cell_type": "code",
      "source": [
        "X = clean_dataset['text']\n",
        "y = clean_dataset['label']\n",
        "X_train, X_test, y_train, y_test = train_test_split(X, y, test_size=0.2, random_state=42)"
      ],
      "metadata": {
        "id": "2dcxydyQzOeI"
      },
      "execution_count": null,
      "outputs": []
    },
    {
      "cell_type": "code",
      "source": [
        "tokenizer = Tokenizer(num_words=max_nm_words)\n",
        "tokenizer.fit_on_texts(clean_dataset['text'])\n",
        "\n",
        "x_train = tokenizer.texts_to_sequences(X_train)\n",
        "x_train = pad_sequences(x_train, maxlen=max_sequence_length)\n",
        "x_test = tokenizer.texts_to_sequences(X_test)\n",
        "x_test = pad_sequences(x_test, maxlen=max_sequence_length)\n",
        "\n",
        "word_index=tokenizer.word_index\n",
        "vocab_size=len(word_index)\n",
        "\n",
        "print(vocab_size)"
      ],
      "metadata": {
        "colab": {
          "base_uri": "https://localhost:8080/"
        },
        "id": "eCr2UrGikVT4",
        "outputId": "e2bcbb67-cb78-4480-a39f-e10f6f7a0641"
      },
      "execution_count": null,
      "outputs": [
        {
          "output_type": "stream",
          "name": "stdout",
          "text": [
            "33218\n"
          ]
        }
      ]
    },
    {
      "cell_type": "code",
      "source": [
        "\n",
        "embedding_matrix = np.zeros((len(word_index) + 1, embedding_dim))\n",
        "for word, i in word_index.items():\n",
        "    try:\n",
        "        embedding_vector = w2v[word]\n",
        "        embedding_matrix[i] = embedding_vector\n",
        "    except:\n",
        "        pass"
      ],
      "metadata": {
        "id": "Mx9ZFeUiwSap"
      },
      "execution_count": null,
      "outputs": []
    },
    {
      "cell_type": "code",
      "source": [
        "sentence_indices = Input(shape=(max_sequence_length,),dtype='int32')\n",
        "embedding_layer = Embedding(vocab_size+1 , embeding_dim,  input_length=max_sequence_length, trainable=False)\n",
        "embeddings = embedding_layer(sentence_indices)\n",
        "X = LSTM(60, return_sequences=True, dropout=0.1, recurrent_dropout=0.1)(embeddings)\n",
        "X = GlobalMaxPool1D()(X)\n",
        "X = Dropout(0.2)(X)\n",
        "X = Dense(128)(X)\n",
        "X = Activation(\"relu\")(X)\n",
        "X = Dropout(0.2)(X)\n",
        "X = Dense(512)(X)\n",
        "X = Activation(\"relu\")(X)\n",
        "X = Dropout(0.2)(X)\n",
        "X = Dense(4)(X)\n",
        "X = Activation('softmax')(X)\n",
        "model = Model(inputs=sentence_indices,outputs=X)"
      ],
      "metadata": {
        "colab": {
          "base_uri": "https://localhost:8080/"
        },
        "id": "9xfORT1npPwv",
        "outputId": "a6bfe632-a4a9-4133-b1b2-fc7eac217b07"
      },
      "execution_count": null,
      "outputs": [
        {
          "output_type": "stream",
          "name": "stderr",
          "text": [
            "WARNING:tensorflow:Layer lstm_4 will not use cuDNN kernels since it doesn't meet the criteria. It will use a generic GPU kernel as fallback when running on GPU.\n"
          ]
        }
      ]
    },
    {
      "cell_type": "code",
      "source": [
        "model.compile(loss=\"categorical_crossentropy\", optimizer='rmsprop', metrics=['accuracy'])"
      ],
      "metadata": {
        "id": "EzhG07Qcpbak"
      },
      "execution_count": null,
      "outputs": []
    },
    {
      "cell_type": "code",
      "source": [
        "early_stopping = tf.keras.callbacks.EarlyStopping(\n",
        "                              verbose=1,\n",
        "                              patience=3,\n",
        "                              min_delta=0.001,\n",
        "                              monitor=\"val_loss\",\n",
        "                              restore_best_weights=True\n",
        "                              )"
      ],
      "metadata": {
        "id": "WGQucvzw04Q6"
      },
      "execution_count": null,
      "outputs": []
    },
    {
      "cell_type": "code",
      "source": [
        "history = model.fit(x_train, y_train_cat, batch_size=32, epochs=10, validation_split=0.2, callbacks=[early_stopping])"
      ],
      "metadata": {
        "colab": {
          "base_uri": "https://localhost:8080/"
        },
        "id": "1X4juaNCpjfh",
        "outputId": "03687863-4712-42b5-e35b-c395a35db69a"
      },
      "execution_count": null,
      "outputs": [
        {
          "output_type": "stream",
          "name": "stdout",
          "text": [
            "Epoch 1/10\n",
            "194/194 [==============================] - 78s 388ms/step - loss: 0.9867 - accuracy: 0.6672 - val_loss: 0.9594 - val_accuracy: 0.6699\n",
            "Epoch 2/10\n",
            "194/194 [==============================] - 72s 373ms/step - loss: 0.9626 - accuracy: 0.6697 - val_loss: 0.9420 - val_accuracy: 0.6699\n",
            "Epoch 3/10\n",
            "194/194 [==============================] - 73s 376ms/step - loss: 0.9468 - accuracy: 0.6697 - val_loss: 0.9260 - val_accuracy: 0.6699\n",
            "Epoch 4/10\n",
            "194/194 [==============================] - 73s 375ms/step - loss: 0.9379 - accuracy: 0.6697 - val_loss: 0.9292 - val_accuracy: 0.6699\n",
            "Epoch 5/10\n",
            "194/194 [==============================] - 75s 385ms/step - loss: 0.9281 - accuracy: 0.6697 - val_loss: 0.9254 - val_accuracy: 0.6699\n",
            "Epoch 6/10\n",
            "194/194 [==============================] - 73s 377ms/step - loss: 0.9159 - accuracy: 0.6696 - val_loss: 0.9155 - val_accuracy: 0.6699\n",
            "Epoch 7/10\n",
            "194/194 [==============================] - 74s 380ms/step - loss: 0.9043 - accuracy: 0.6701 - val_loss: 0.9171 - val_accuracy: 0.6699\n",
            "Epoch 8/10\n",
            "194/194 [==============================] - 74s 382ms/step - loss: 0.8969 - accuracy: 0.6704 - val_loss: 0.9281 - val_accuracy: 0.6667\n",
            "Epoch 9/10\n",
            "194/194 [==============================] - ETA: 0s - loss: 0.8865 - accuracy: 0.6712Restoring model weights from the end of the best epoch: 6.\n",
            "194/194 [==============================] - 73s 377ms/step - loss: 0.8865 - accuracy: 0.6712 - val_loss: 0.9214 - val_accuracy: 0.6673\n",
            "Epoch 9: early stopping\n"
          ]
        }
      ]
    },
    {
      "cell_type": "code",
      "source": [
        "y_pred = np.argmax(model.predict(x_test), axis=1)\n",
        "print('[loss, acc]: ', model.evaluate(x_test, y_test_cat))\n",
        "print('\\nf1 score for test set: ', f1_score(y_test, y_pred, average='weighted'))"
      ],
      "metadata": {
        "colab": {
          "base_uri": "https://localhost:8080/"
        },
        "id": "Ae8lKRz3p1uQ",
        "outputId": "e3f0ee50-37bb-404f-ff6d-a62b74613a21"
      },
      "execution_count": null,
      "outputs": [
        {
          "output_type": "stream",
          "name": "stdout",
          "text": [
            "61/61 [==============================] - 2s 29ms/step\n",
            "61/61 [==============================] - 2s 31ms/step - loss: 0.9461 - accuracy: 0.6581\n",
            "[loss, acc]:  [0.9460707306861877, 0.6580711603164673]\n",
            "\n",
            "f1 score for test set:  0.5223631812264743\n"
          ]
        }
      ]
    },
    {
      "cell_type": "markdown",
      "source": [
        "Another try with differemt optimizer"
      ],
      "metadata": {
        "id": "C2O0YE4_5znx"
      }
    },
    {
      "cell_type": "code",
      "source": [
        "sentence_indices = Input(shape=(max_sequence_length,),dtype='int32')\n",
        "embedding_layer = Embedding(vocab_size+1 , embeding_dim,  input_length=max_sequence_length)\n",
        "embeddings = embedding_layer(sentence_indices)\n",
        "X = LSTM(50, return_sequences=True, dropout=0.1, recurrent_dropout=0.1)(embeddings)\n",
        "X = GlobalMaxPool1D()(X)\n",
        "X = Dropout(0.2)(X)\n",
        "X = Dense(128)(X)\n",
        "X = Activation(\"LeakyReLU\")(X)\n",
        "X = Dropout(0.2)(X)\n",
        "X = Dense(512)(X)\n",
        "X = Activation(\"LeakyReLU\")(X)\n",
        "X = Dropout(0.2)(X)\n",
        "X = Dense(4)(X)\n",
        "X = Activation('softmax')(X)\n",
        "model = Model(inputs=sentence_indices,outputs=X)"
      ],
      "metadata": {
        "id": "AXBapd9_xIYO"
      },
      "execution_count": null,
      "outputs": []
    },
    {
      "cell_type": "code",
      "source": [
        "model.compile(loss=\"categorical_crossentropy\", optimizer='adam', metrics=['accuracy'])\n",
        "history = model.fit(x_train, y_train_cat, batch_size=64, epochs=10, validation_split=0.2)"
      ],
      "metadata": {
        "colab": {
          "base_uri": "https://localhost:8080/"
        },
        "id": "-hi-uL4j5-AQ",
        "outputId": "95b30128-27b9-404d-9c86-f324e1d456b7"
      },
      "execution_count": null,
      "outputs": [
        {
          "output_type": "stream",
          "name": "stdout",
          "text": [
            "Epoch 1/10\n",
            "97/97 [==============================] - 43s 421ms/step - loss: 0.9994 - accuracy: 0.6668 - val_loss: 0.9085 - val_accuracy: 0.6699\n",
            "Epoch 2/10\n",
            "97/97 [==============================] - 41s 421ms/step - loss: 0.7418 - accuracy: 0.7282 - val_loss: 0.9734 - val_accuracy: 0.6686\n",
            "Epoch 3/10\n",
            "97/97 [==============================] - 41s 425ms/step - loss: 0.4508 - accuracy: 0.8148 - val_loss: 1.1660 - val_accuracy: 0.6293\n",
            "Epoch 4/10\n",
            "97/97 [==============================] - 41s 420ms/step - loss: 0.2665 - accuracy: 0.9010 - val_loss: 1.3974 - val_accuracy: 0.6125\n",
            "Epoch 5/10\n",
            "97/97 [==============================] - 42s 430ms/step - loss: 0.1082 - accuracy: 0.9647 - val_loss: 1.6669 - val_accuracy: 0.6151\n",
            "Epoch 6/10\n",
            "97/97 [==============================] - 41s 419ms/step - loss: 0.0538 - accuracy: 0.9842 - val_loss: 1.7616 - val_accuracy: 0.6015\n",
            "Epoch 7/10\n",
            "97/97 [==============================] - 40s 416ms/step - loss: 0.0450 - accuracy: 0.9890 - val_loss: 1.5876 - val_accuracy: 0.6151\n",
            "Epoch 8/10\n",
            "97/97 [==============================] - 41s 420ms/step - loss: 0.0297 - accuracy: 0.9905 - val_loss: 1.8003 - val_accuracy: 0.6119\n",
            "Epoch 9/10\n",
            "97/97 [==============================] - 41s 418ms/step - loss: 0.0239 - accuracy: 0.9929 - val_loss: 1.7689 - val_accuracy: 0.6267\n",
            "Epoch 10/10\n",
            "97/97 [==============================] - 40s 415ms/step - loss: 0.0221 - accuracy: 0.9923 - val_loss: 1.9306 - val_accuracy: 0.6273\n"
          ]
        }
      ]
    },
    {
      "cell_type": "code",
      "source": [
        "y_pred = np.argmax(model.predict(x_test), axis=1)\n",
        "print('[loss, acc]: ', model.evaluate(x_test, y_test_cat))\n",
        "print('\\nf1 score for test set: ', f1_score(y_test, y_pred, average='weighted'))"
      ],
      "metadata": {
        "colab": {
          "base_uri": "https://localhost:8080/"
        },
        "id": "e7JTqyg06T0b",
        "outputId": "5ee80840-619d-4065-a7b5-be27d6d87e4f"
      },
      "execution_count": null,
      "outputs": [
        {
          "output_type": "stream",
          "name": "stdout",
          "text": [
            "61/61 [==============================] - 2s 30ms/step\n",
            "61/61 [==============================] - 2s 31ms/step - loss: 1.9061 - accuracy: 0.6302\n",
            "[loss, acc]:  [1.906056523323059, 0.6302217841148376]\n",
            "\n",
            "f1 score for test set:  0.611011640656305\n"
          ]
        }
      ]
    },
    {
      "cell_type": "markdown",
      "source": [
        "\n",
        "\n",
        "```\n",
        "the best result ---> f1 score = 0.61 this from LSTM with adam optimizer better than rmsprop optimizer this give result f1 score = 0.52\n",
        "```\n",
        "\n",
        "\n"
      ],
      "metadata": {
        "id": "eGz8N-Pd8CsF"
      }
    },
    {
      "cell_type": "markdown",
      "source": [
        "#trying tuning bert with ktrain\n"
      ],
      "metadata": {
        "id": "h48s_6KestHr"
      }
    },
    {
      "cell_type": "code",
      "source": [
        "from ktrain import text"
      ],
      "metadata": {
        "id": "BtGCUqCwtUZz"
      },
      "execution_count": null,
      "outputs": []
    },
    {
      "cell_type": "code",
      "source": [
        "clean_dataset.label.unique()"
      ],
      "metadata": {
        "colab": {
          "base_uri": "https://localhost:8080/"
        },
        "id": "hHSa6sYFtYW7",
        "outputId": "a99ec161-3089-4239-9c07-126d5a74b677"
      },
      "execution_count": null,
      "outputs": [
        {
          "output_type": "execute_result",
          "data": {
            "text/plain": [
              "array([2, 3, 0, 1])"
            ]
          },
          "metadata": {},
          "execution_count": 15
        }
      ]
    },
    {
      "cell_type": "code",
      "source": [
        "X = clean_dataset['text'].tolist()\n",
        "y = clean_dataset['label'].tolist()\n",
        "X_train, X_test, y_train, y_test = train_test_split(X, y, test_size=0.2)"
      ],
      "metadata": {
        "id": "qc7ejIuz6l8I"
      },
      "execution_count": null,
      "outputs": []
    },
    {
      "cell_type": "code",
      "source": [
        "(X_train, y_train), (X_test, y_test), preproc = text.texts_from_array(x_train = X_train,\n",
        "                                                                      y_train = y_train,\n",
        "                                                                      x_test = X_test,\n",
        "                                                                      y_test = y_test,\n",
        "                                                                      class_names = [0, 1, 2, 3],\n",
        "                                                                      preprocess_mode = 'bert',\n",
        "                                                                      ngram_range = 1,\n",
        "                                                                      maxlen = 320) # bert"
      ],
      "metadata": {
        "colab": {
          "base_uri": "https://localhost:8080/",
          "height": 295
        },
        "id": "8qNFS_v-6l5T",
        "outputId": "93d089ef-7877-4e22-806f-1a25a9d55e3d"
      },
      "execution_count": null,
      "outputs": [
        {
          "output_type": "stream",
          "name": "stdout",
          "text": [
            "downloading pretrained BERT model (multi_cased_L-12_H-768_A-12.zip)...\n",
            "[██████████████████████████████████████████████████]\n",
            "extracting pretrained BERT model...\n",
            "done.\n",
            "\n",
            "cleanup downloaded zip...\n",
            "done.\n",
            "\n",
            "preprocessing train...\n",
            "language: ar\n"
          ]
        },
        {
          "output_type": "display_data",
          "data": {
            "text/plain": [
              "<IPython.core.display.HTML object>"
            ],
            "text/html": [
              "\n",
              "<style>\n",
              "    /* Turns off some styling */\n",
              "    progress {\n",
              "        /* gets rid of default border in Firefox and Opera. */\n",
              "        border: none;\n",
              "        /* Needs to be in here for Safari polyfill so background images work as expected. */\n",
              "        background-size: auto;\n",
              "    }\n",
              "    progress:not([value]), progress:not([value])::-webkit-progress-bar {\n",
              "        background: repeating-linear-gradient(45deg, #7e7e7e, #7e7e7e 10px, #5c5c5c 10px, #5c5c5c 20px);\n",
              "    }\n",
              "    .progress-bar-interrupted, .progress-bar-interrupted::-webkit-progress-bar {\n",
              "        background: #F44336;\n",
              "    }\n",
              "</style>\n"
            ]
          },
          "metadata": {}
        },
        {
          "output_type": "display_data",
          "data": {
            "text/plain": [
              "<IPython.core.display.HTML object>"
            ],
            "text/html": [
              "done."
            ]
          },
          "metadata": {}
        },
        {
          "output_type": "stream",
          "name": "stdout",
          "text": [
            "Is Multi-Label? False\n",
            "preprocessing test...\n",
            "language: ar\n"
          ]
        },
        {
          "output_type": "display_data",
          "data": {
            "text/plain": [
              "<IPython.core.display.HTML object>"
            ],
            "text/html": [
              "\n",
              "<style>\n",
              "    /* Turns off some styling */\n",
              "    progress {\n",
              "        /* gets rid of default border in Firefox and Opera. */\n",
              "        border: none;\n",
              "        /* Needs to be in here for Safari polyfill so background images work as expected. */\n",
              "        background-size: auto;\n",
              "    }\n",
              "    progress:not([value]), progress:not([value])::-webkit-progress-bar {\n",
              "        background: repeating-linear-gradient(45deg, #7e7e7e, #7e7e7e 10px, #5c5c5c 10px, #5c5c5c 20px);\n",
              "    }\n",
              "    .progress-bar-interrupted, .progress-bar-interrupted::-webkit-progress-bar {\n",
              "        background: #F44336;\n",
              "    }\n",
              "</style>\n"
            ]
          },
          "metadata": {}
        },
        {
          "output_type": "display_data",
          "data": {
            "text/plain": [
              "<IPython.core.display.HTML object>"
            ],
            "text/html": [
              "done."
            ]
          },
          "metadata": {}
        },
        {
          "output_type": "stream",
          "name": "stdout",
          "text": [
            "task: text classification\n"
          ]
        }
      ]
    },
    {
      "cell_type": "code",
      "source": [
        "model = text.text_classifier('bert',\n",
        "                              train_data = (X_train, y_train),\n",
        "                              preproc = preproc)"
      ],
      "metadata": {
        "colab": {
          "base_uri": "https://localhost:8080/"
        },
        "id": "chCTkkK46l2X",
        "outputId": "6076f7df-8bcc-4b77-fe72-1653189d98cb"
      },
      "execution_count": null,
      "outputs": [
        {
          "output_type": "stream",
          "name": "stdout",
          "text": [
            "Is Multi-Label? False\n",
            "maxlen is 320\n",
            "done.\n"
          ]
        }
      ]
    },
    {
      "cell_type": "code",
      "source": [
        "learner = ktrain.get_learner(model,\n",
        "                             train_data = (X_train, y_train),\n",
        "                             batch_size = 8)"
      ],
      "metadata": {
        "id": "CgYwwdMQ6lyx"
      },
      "execution_count": null,
      "outputs": []
    },
    {
      "cell_type": "code",
      "source": [
        "learner.lr_find()"
      ],
      "metadata": {
        "id": "4tOG2a01K5XN",
        "colab": {
          "base_uri": "https://localhost:8080/"
        },
        "outputId": "d4172e68-86f8-47ea-ba03-bb0a0c8627ee"
      },
      "execution_count": null,
      "outputs": [
        {
          "output_type": "stream",
          "name": "stdout",
          "text": [
            "simulating training for different learning rates... this may take a few moments...\n",
            "Epoch 1/1024\n",
            "970/970 [==============================] - 625s 623ms/step - loss: 1.0453 - accuracy: 0.6504\n",
            "Epoch 2/1024\n",
            "970/970 [==============================] - 240s 247ms/step - loss: 6.5451 - accuracy: 0.5648\n",
            "\n",
            "\n",
            "done.\n",
            "Please invoke the Learner.lr_plot() method to visually inspect the loss plot to help identify the maximal learning rate associated with falling loss.\n"
          ]
        }
      ]
    },
    {
      "cell_type": "code",
      "source": [
        "learner.lr_plot()"
      ],
      "metadata": {
        "colab": {
          "base_uri": "https://localhost:8080/",
          "height": 283
        },
        "id": "_Nmnp4RXK8Ol",
        "outputId": "90a63a5e-a76d-4499-820a-4447eba6df50"
      },
      "execution_count": null,
      "outputs": [
        {
          "output_type": "display_data",
          "data": {
            "text/plain": [
              "<Figure size 432x288 with 1 Axes>"
            ],
            "image/png": "[encoded data removed]"
          },
          "metadata": {
            "needs_background": "light"
          }
        }
      ]
    },
    {
      "cell_type": "code",
      "source": [
        "learner.reset_weights()"
      ],
      "metadata": {
        "colab": {
          "base_uri": "https://localhost:8080/"
        },
        "id": "COCZvMlPBCBJ",
        "outputId": "efacc2aa-f8ca-4fa5-e595-2537765db4a7"
      },
      "execution_count": null,
      "outputs": [
        {
          "output_type": "stream",
          "name": "stdout",
          "text": [
            "Model weights have been reset.\n"
          ]
        }
      ]
    },
    {
      "cell_type": "code",
      "source": [
        "history = learner.fit_onecycle(1e-5, 3)"
      ],
      "metadata": {
        "colab": {
          "base_uri": "https://localhost:8080/"
        },
        "id": "RCBgiIUY6lwK",
        "outputId": "a0afeeb0-834b-49be-8c6b-1b0c3f34ba60"
      },
      "execution_count": null,
      "outputs": [
        {
          "output_type": "stream",
          "name": "stdout",
          "text": [
            "\n",
            "\n",
            "begin training using onecycle policy with max lr of 1e-05...\n",
            "Epoch 1/3\n",
            "970/970 [==============================] - 630s 630ms/step - loss: 0.9438 - accuracy: 0.6627\n",
            "Epoch 2/3\n",
            "970/970 [==============================] - 614s 633ms/step - loss: 0.8533 - accuracy: 0.6711\n",
            "Epoch 3/3\n",
            "970/970 [==============================] - 614s 633ms/step - loss: 0.6892 - accuracy: 0.7322\n"
          ]
        }
      ]
    },
    {
      "cell_type": "code",
      "source": [
        "learner.validate(val_data = (X_test, y_test))"
      ],
      "metadata": {
        "colab": {
          "base_uri": "https://localhost:8080/"
        },
        "id": "-_Zbb69h6ltW",
        "outputId": "d055ff85-d0ea-4636-b51e-0e9927627691"
      },
      "execution_count": null,
      "outputs": [
        {
          "output_type": "stream",
          "name": "stdout",
          "text": [
            "61/61 [==============================] - 50s 745ms/step\n",
            "              precision    recall  f1-score   support\n",
            "\n",
            "           0       0.49      0.41      0.44       332\n",
            "           1       0.34      0.14      0.20       146\n",
            "           2       0.78      0.89      0.83      1325\n",
            "           3       0.44      0.26      0.32       136\n",
            "\n",
            "    accuracy                           0.71      1939\n",
            "   macro avg       0.51      0.42      0.45      1939\n",
            "weighted avg       0.67      0.71      0.68      1939\n",
            "\n"
          ]
        },
        {
          "output_type": "execute_result",
          "data": {
            "text/plain": [
              "array([[ 135,   15,  178,    4],\n",
              "       [  52,   21,   70,    3],\n",
              "       [  85,   21, 1181,   38],\n",
              "       [   5,    5,   91,   35]])"
            ]
          },
          "metadata": {},
          "execution_count": 50
        }
      ]
    },
    {
      "cell_type": "markdown",
      "source": [
        "<mark> this method give weighted f1 result 0.68 it's better than base line (0.63)"
      ],
      "metadata": {
        "id": "ZfTFj3KYZYVs"
      }
    },
    {
      "cell_type": "markdown",
      "source": [
        "---\n",
        "\n",
        "\n",
        "```\n",
        "result weighted f1=39, acc=69 -- batch size 8, maxlen 320, lr 1e-5, n gram 1\n",
        "result weighted f1=35, acc=65 -- batch size 4, maxlen 350, lr 1e-4, n gram 1\n",
        "result weighted f1=40, acc=70 -- batch size 8, maxlen 320, lr 1e-5, n gram 2\n",
        "result weighted f1=60, acc=70 -- batch size 8, maxlen 320, lr 1e-5, n gram 3\n",
        "result weighted f1=65, acc=68 -- batch size 8, maxlen 320, lr 1e-5\n",
        "```\n",
        "\n",
        "\n",
        "---"
      ],
      "metadata": {
        "id": "dKm8jCuiXZwE"
      }
    },
    {
      "cell_type": "markdown",
      "source": [
        "#CNN"
      ],
      "metadata": {
        "id": "ac6GnqYLEEun"
      }
    },
    {
      "cell_type": "code",
      "source": [
        "X = clean_dataset['text']\n",
        "y = clean_dataset['label']\n",
        "X_train, X_test, y_train, y_test = train_test_split(X, y, test_size=0.2, random_state=42)"
      ],
      "metadata": {
        "id": "g07gdeNdQoL1"
      },
      "execution_count": null,
      "outputs": []
    },
    {
      "cell_type": "code",
      "source": [
        "tokenizer.fit_on_texts(X_train)"
      ],
      "metadata": {
        "id": "g7Z3rNnaSSoU"
      },
      "execution_count": null,
      "outputs": []
    },
    {
      "cell_type": "code",
      "source": [
        "train_sequences = tokenizer.texts_to_sequences(X_train)"
      ],
      "metadata": {
        "id": "aSp0wAOH352t"
      },
      "execution_count": null,
      "outputs": []
    },
    {
      "cell_type": "code",
      "source": [
        "test_sequences = tokenizer.texts_to_sequences(X_test)"
      ],
      "metadata": {
        "id": "ZzPMumFj353D"
      },
      "execution_count": null,
      "outputs": []
    },
    {
      "cell_type": "code",
      "source": [
        "Xcnn_train = pad_sequences(train_sequences, padding='post', maxlen=100)\n",
        "Xcnn_test = pad_sequences(test_sequences, padding='post', maxlen=100)"
      ],
      "metadata": {
        "id": "99_Ik0IWKhlk"
      },
      "execution_count": null,
      "outputs": []
    },
    {
      "cell_type": "code",
      "source": [
        "y_train_ = np_utils.to_categorical(y_train,4)\n",
        "y_test_ = np_utils.to_categorical(y_test,4)"
      ],
      "metadata": {
        "id": "wdoZmkltRQw7"
      },
      "execution_count": null,
      "outputs": []
    },
    {
      "cell_type": "code",
      "source": [
        "model = Sequential()\n",
        "model.add(Embedding(vocab_size+1, 32, input_length=max_sequence_length))\n",
        "model.add(Conv1D(32, 3, padding='same', activation='relu'))\n",
        "model.add(MaxPooling1D())\n",
        "model.add(Flatten())\n",
        "model.add(Dense(250, activation='relu'))\n",
        "model.add(Dense(4, activation='softmax'))"
      ],
      "metadata": {
        "id": "w-SPYfO41vMb"
      },
      "execution_count": null,
      "outputs": []
    },
    {
      "cell_type": "code",
      "source": [
        "model.compile(loss='categorical_crossentropy', optimizer='adam', metrics=['accuracy'])\n",
        "model.summary()"
      ],
      "metadata": {
        "colab": {
          "base_uri": "https://localhost:8080/"
        },
        "id": "BLdCt49t2vZ7",
        "outputId": "e3b3558e-841f-4dbe-aa83-cf0379db12ff"
      },
      "execution_count": null,
      "outputs": [
        {
          "output_type": "stream",
          "name": "stdout",
          "text": [
            "Model: \"sequential_4\"\n",
            "_________________________________________________________________\n",
            " Layer (type)                Output Shape              Param #   \n",
            "=================================================================\n",
            " embedding_14 (Embedding)    (None, 100, 32)           1063008   \n",
            "                                                                 \n",
            " conv1d_3 (Conv1D)           (None, 100, 32)           3104      \n",
            "                                                                 \n",
            " max_pooling1d_3 (MaxPooling  (None, 50, 32)           0         \n",
            " 1D)                                                             \n",
            "                                                                 \n",
            " flatten_3 (Flatten)         (None, 1600)              0         \n",
            "                                                                 \n",
            " dense_39 (Dense)            (None, 250)               400250    \n",
            "                                                                 \n",
            " dense_40 (Dense)            (None, 4)                 1004      \n",
            "                                                                 \n",
            "=================================================================\n",
            "Total params: 1,467,366\n",
            "Trainable params: 1,467,366\n",
            "Non-trainable params: 0\n",
            "_________________________________________________________________\n"
          ]
        }
      ]
    },
    {
      "cell_type": "code",
      "source": [
        "model.fit(Xcnn_train, y_train_, epochs=10, batch_size=64, verbose=2, validation_split=0.2)"
      ],
      "metadata": {
        "colab": {
          "base_uri": "https://localhost:8080/"
        },
        "id": "jH2S2VME2zaw",
        "outputId": "6e26c7a3-e6c9-406b-d1ee-4301c9ff58ac"
      },
      "execution_count": null,
      "outputs": [
        {
          "output_type": "stream",
          "name": "stdout",
          "text": [
            "Epoch 1/10\n",
            "97/97 - 1s - loss: 0.9756 - accuracy: 0.6644 - val_loss: 0.9144 - val_accuracy: 0.6699 - 1s/epoch - 13ms/step\n",
            "Epoch 2/10\n",
            "97/97 - 1s - loss: 0.7842 - accuracy: 0.7039 - val_loss: 0.8750 - val_accuracy: 0.6763 - 515ms/epoch - 5ms/step\n",
            "Epoch 3/10\n",
            "97/97 - 1s - loss: 0.4666 - accuracy: 0.8124 - val_loss: 1.0256 - val_accuracy: 0.6493 - 527ms/epoch - 5ms/step\n",
            "Epoch 4/10\n",
            "97/97 - 0s - loss: 0.2398 - accuracy: 0.9239 - val_loss: 1.2632 - val_accuracy: 0.6370 - 453ms/epoch - 5ms/step\n",
            "Epoch 5/10\n",
            "97/97 - 0s - loss: 0.0994 - accuracy: 0.9753 - val_loss: 1.4727 - val_accuracy: 0.5990 - 441ms/epoch - 5ms/step\n",
            "Epoch 6/10\n",
            "97/97 - 0s - loss: 0.0546 - accuracy: 0.9876 - val_loss: 1.6140 - val_accuracy: 0.6138 - 417ms/epoch - 4ms/step\n",
            "Epoch 7/10\n",
            "97/97 - 0s - loss: 0.0351 - accuracy: 0.9923 - val_loss: 1.8249 - val_accuracy: 0.6525 - 433ms/epoch - 4ms/step\n",
            "Epoch 8/10\n",
            "97/97 - 0s - loss: 0.0289 - accuracy: 0.9924 - val_loss: 1.9522 - val_accuracy: 0.6596 - 419ms/epoch - 4ms/step\n",
            "Epoch 9/10\n",
            "97/97 - 0s - loss: 0.0276 - accuracy: 0.9936 - val_loss: 1.8187 - val_accuracy: 0.6364 - 437ms/epoch - 5ms/step\n",
            "Epoch 10/10\n",
            "97/97 - 0s - loss: 0.0220 - accuracy: 0.9939 - val_loss: 1.8919 - val_accuracy: 0.6460 - 439ms/epoch - 5ms/step\n"
          ]
        },
        {
          "output_type": "execute_result",
          "data": {
            "text/plain": [
              "<keras.callbacks.History at 0x7fa19612f8b0>"
            ]
          },
          "metadata": {},
          "execution_count": 173
        }
      ]
    }
  ]
}